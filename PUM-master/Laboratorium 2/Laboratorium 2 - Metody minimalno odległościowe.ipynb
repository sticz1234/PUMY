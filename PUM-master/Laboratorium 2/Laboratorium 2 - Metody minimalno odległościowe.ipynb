{
 "cells": [
  {
   "cell_type": "markdown",
   "metadata": {},
   "source": [
    "<H1>Klasyfikacja za pomocą metod minimalno-odległościowych</H1>"
   ]
  },
  {
   "cell_type": "markdown",
   "metadata": {},
   "source": [
    "<H3>Ćwiczenie 1</H3>"
   ]
  },
  {
   "cell_type": "markdown",
   "metadata": {},
   "source": [
    "Celem ćwiczenia jest:\n",
    "- utworzenie reprezentacji zbioru danych - przekształcenie obrazu na wektor cech;\n",
    "- zastosowanie metod minimalnoodległościowych do klasyfikacji.\n",
    "- wizualizacja wyników klasyfikatora"
   ]
  },
  {
   "cell_type": "markdown",
   "metadata": {},
   "source": [
    "___"
   ]
  },
  {
   "cell_type": "markdown",
   "metadata": {},
   "source": [
    "Wczytywanie danych"
   ]
  },
  {
   "cell_type": "code",
   "execution_count": 1,
   "metadata": {},
   "outputs": [],
   "source": [
    "import matplotlib.pyplot as plt\n",
    "import numpy as np\n",
    "import csv\n",
    "\n",
    "# function for reading the images\n",
    "# arguments: path to the traffic sign data, for example './GTSRB/Training'\n",
    "# returns: list of images, list of corresponding labels \n",
    "def readTrafficSigns(rootpath):\n",
    "    '''Reads traffic sign data for German Traffic Sign Recognition Benchmark.\n",
    "\n",
    "    Arguments: path to the traffic sign data, for example './GTSRB/Training'\n",
    "    Returns:   list of images, list of corresponding labels'''\n",
    "    images = [] # images\n",
    "    labels = [] # corresponding labels\n",
    "    # loop over all 42 classes\n",
    "    for c in range(0,43):\n",
    "        prefix = rootpath + '/' + format(c, '05d') + '/' # subdirectory for class\n",
    "        gtFile = open(prefix + 'GT-'+ format(c, '05d') + '.csv') # annotations file\n",
    "        gtReader = csv.reader(gtFile, delimiter=';') # csv parser for annotations file\n",
    "        next(gtReader) # skip header !!!!!!!!!!!!!!!!!!TUTAJ NALEŻY KONIECZKIE ZMIENIĆ ORYGINAŁ\n",
    "        # loop over all images in current annotations file\n",
    "        for row in gtReader:\n",
    "            x1,y1,x2,y2 = map(int,row[3:7])\n",
    "            images.append(np.array(plt.imread(prefix + row[0]))[y1:y2,x1:x2]) # the 1th column is the filename\n",
    "            labels.append(int(row[7])) # the 8th column is the label# TU ZMIENIĆ ODROBINKĘ\n",
    "        gtFile.close()\n",
    "    return np.array(images), np.array(labels)# I TU JESZCZE TROCHĘ"
   ]
  },
  {
   "cell_type": "markdown",
   "metadata": {},
   "source": [
    "Wczytanie danych z folderu"
   ]
  },
  {
   "cell_type": "code",
   "execution_count": 2,
   "metadata": {},
   "outputs": [],
   "source": [
    "path = r\"C:\\Users\\sticz\\Desktop\\Magisterka sezon drugi\\Podstawy Uczenia Maszynowego\\PUM-master\\Laboratorium 1\\GTSRB\\Final_Training\\Images\"\n",
    "images, labels = readTrafficSigns(path)"
   ]
  },
  {
   "cell_type": "markdown",
   "metadata": {},
   "source": [
    "Utworzenie wektora etykiet zawierającego podział na grupy znaków, zamiast podziału na podtypy."
   ]
  },
  {
   "cell_type": "code",
   "execution_count": 3,
   "metadata": {},
   "outputs": [],
   "source": [
    "class_names=[\"zakazu\", \"ostrzegawcze\", \"informacyjne\", \"nakazu\"]\n",
    "sign_groups = [0,0,0,0,0,0,0,0,0,0,0,1,2,1,0,0,0,0,1,1,1,1,1,1,1,1,1,1,1,1,1,1,0,3,3,3,3,3,3,3,3,0,0]\n",
    "labels_groups = np.array([sign_groups[cls] for cls in labels])"
   ]
  },
  {
   "cell_type": "markdown",
   "metadata": {},
   "source": [
    "Wybranie elementu przykładowego w celu pokazania naiwnej reprezentacji danych"
   ]
  },
  {
   "cell_type": "code",
   "execution_count": 4,
   "metadata": {},
   "outputs": [
    {
     "data": {
      "image/png": "[encoded data removed]",
      "text/plain": [
       "<Figure size 432x288 with 1 Axes>"
      ]
     },
     "metadata": {
      "needs_background": "light"
     },
     "output_type": "display_data"
    }
   ],
   "source": [
    "plt.figure()\n",
    "plt.imshow(images[100])\n",
    "plt.show()"
   ]
  },
  {
   "cell_type": "markdown",
   "metadata": {},
   "source": [
    "Naiwna reprezentacja poprzez sumowanie składowych RGB, anastępnie wyznaczenie ich wzajemnej relacji"
   ]
  },
  {
   "cell_type": "code",
   "execution_count": 5,
   "metadata": {},
   "outputs": [
    {
     "data": {
      "text/plain": [
       "array([0.41163983, 0.30225772, 0.28610245])"
      ]
     },
     "execution_count": 5,
     "metadata": {},
     "output_type": "execute_result"
    }
   ],
   "source": [
    "img=images[100]\n",
    "features=np.array([np.sum(img[:,:,0]),np.sum(img[:,:,1]),np.sum(img[:,:,2])])\n",
    "features=features/np.sum(features)\n",
    "features"
   ]
  },
  {
   "cell_type": "markdown",
   "metadata": {},
   "source": [
    "Wyznaczenie nowej reprezentacji elementów<br>\n",
    "Podział zbioru na testowy i treningowy\n"
   ]
  },
  {
   "cell_type": "code",
   "execution_count": 6,
   "metadata": {},
   "outputs": [],
   "source": [
    "from sklearn.model_selection import train_test_split\n",
    "training_set, test_set, training_labels, test_labels = train_test_split(images, labels, test_size=0.33, random_state=3)"
   ]
  },
  {
   "cell_type": "markdown",
   "metadata": {},
   "source": [
    "Zdefiniowanie funkcji pozwalającej na przekształcenie obrazu na wektor cech."
   ]
  },
  {
   "cell_type": "code",
   "execution_count": 7,
   "metadata": {},
   "outputs": [],
   "source": [
    "def convertToRelativeRGB(arr):\n",
    "    result = [np.array([np.sum(img[:,:,0]),np.sum(img[:,:,1]),np.sum(img[:,:,2])]) for img in arr ]\n",
    "    result = result/np.sum(result,axis=1)[:,None]\n",
    "    return result"
   ]
  },
  {
   "cell_type": "code",
   "execution_count": 8,
   "metadata": {},
   "outputs": [],
   "source": [
    "image_features = convertToRelativeRGB(images)\n",
    "training_vec = convertToRelativeRGB(training_set)\n",
    "test_vec = convertToRelativeRGB(test_set)"
   ]
  },
  {
   "cell_type": "code",
   "execution_count": 9,
   "metadata": {},
   "outputs": [
    {
     "name": "stdout",
     "output_type": "stream",
     "text": [
      "(26270, 3)\n",
      "(12939, 3)\n"
     ]
    }
   ],
   "source": [
    "print(np.shape(training_vec))\n",
    "print(np.shape(test_vec))"
   ]
  },
  {
   "cell_type": "markdown",
   "metadata": {},
   "source": [
    "Klasyfikacja za pomocą kNN"
   ]
  },
  {
   "cell_type": "code",
   "execution_count": null,
   "metadata": {},
   "outputs": [],
   "source": [
    "tested_case = 14\n",
    "\n",
    "plt.figure()\n",
    "plt.imshow(test_set[tested_case])"
   ]
  },
  {
   "cell_type": "markdown",
   "metadata": {},
   "source": [
    "Klasyfikacja za pomoca metody kNN:\n",
    "- utworzenie wektora odległości pomiędzy naszą próbką (tested_case) oraz wszystkimi próbkami w zbiorze treningowym\n",
    "```python\n",
    "distances_vec = np.sum((np.tile(test_vec[tested_case],(np.shape(training_vec)[0],1)) - training_vec)**2, axis=1)\n",
    "```\n",
    "- posortowanie indeksów wektora odległości, i wybranie k najbliższych obiektów\n",
    "```python\n",
    "sorted_indices = np.argsort( distances_vec )[:k].astype(int)\n",
    "```\n",
    "- sprawdzenie etykiet najbliższych sąsiadów\n",
    "```python\n",
    "nearest_neighbours = np.array(training_labels)[sorted_indices]\n",
    "```"
   ]
  },
  {
   "cell_type": "code",
   "execution_count": null,
   "metadata": {},
   "outputs": [],
   "source": [
    "k = 3\n",
    "distances_vec = np.sum((np.tile(test_vec[tested_case],(np.shape(training_vec)[0],1)) - training_vec)**2, axis=1)\n",
    "sorted_indices = np.argsort( distances_vec )[:k].astype(int)                              \n",
    "nearest_neighbours = np.array(training_labels)[sorted_indices]\n",
    "\n",
    "#poniżej to samo w jednej linii\n",
    "#nearest_neighbours = np.array(training_labels)[np.argsort(np.sum((np.tile(test_vec[tested_case],(np.shape(training_vec)[0],1)) - training_vec)**2, axis=1))[:k].astype(int)]\n",
    "print(nearest_neighbours)\n",
    "max(set(nearest_neighbours), key=list(nearest_neighbours).count)"
   ]
  },
  {
   "cell_type": "code",
   "execution_count": null,
   "metadata": {},
   "outputs": [],
   "source": [
    "k = 3\n",
    "nearest_neighbours = np.array(training_set)[np.argsort(np.sum((np.tile(test_vec[tested_case],(np.shape(training_vec)[0],1)) - training_vec)**2, axis=1))[:k].astype(int)]\n",
    "\n",
    "for img in nearest_neighbours:\n",
    "    plt.figure()\n",
    "    plt.imshow(img)\n",
    "    plt.show()\n"
   ]
  },
  {
   "cell_type": "markdown",
   "metadata": {},
   "source": [
    "Wykorzystanie biblioteki scipy do klasyfikcji za pomocą kNN"
   ]
  },
  {
   "cell_type": "code",
   "execution_count": null,
   "metadata": {},
   "outputs": [],
   "source": [
    "from sklearn.neighbors import KNeighborsClassifier"
   ]
  },
  {
   "cell_type": "code",
   "execution_count": null,
   "metadata": {},
   "outputs": [],
   "source": [
    "training_set_g, test_set_g, training_labels_g, test_labels_g = train_test_split(image_features, labels_groups, test_size=0.33, random_state=3)"
   ]
  },
  {
   "cell_type": "markdown",
   "metadata": {},
   "source": [
    "Utworzenie modelu klasyfikatora kNN, k=3. <br>\n",
    "\"Dopasowanie\" danych treningowych - zapisanie ich w modelu.<br>\n",
    "Wykorzystanie klasyfikatora do etykietowanie danych testowych."
   ]
  },
  {
   "cell_type": "code",
   "execution_count": null,
   "metadata": {},
   "outputs": [],
   "source": [
    "classifier = KNeighborsClassifier(n_neighbors=3)\n",
    "classifier.fit(training_set_g, training_labels_g) \n",
    "predicted_groups = classifier.predict(test_set_g)"
   ]
  },
  {
   "cell_type": "code",
   "execution_count": null,
   "metadata": {},
   "outputs": [],
   "source": [
    "print(predicted_groups[:30])\n",
    "print(test_labels_g[:30])"
   ]
  },
  {
   "cell_type": "markdown",
   "metadata": {},
   "source": [
    "Macierz błędów (tablica pomyłek)"
   ]
  },
  {
   "cell_type": "code",
   "execution_count": null,
   "metadata": {},
   "outputs": [],
   "source": [
    "from sklearn.metrics import confusion_matrix\n",
    "from sklearn.metrics import accuracy_score"
   ]
  },
  {
   "cell_type": "code",
   "execution_count": null,
   "metadata": {},
   "outputs": [],
   "source": [
    "confusion_matrix(test_labels_g, predicted_groups)"
   ]
  },
  {
   "cell_type": "markdown",
   "metadata": {},
   "source": [
    "Można użyć również biblioteki pandas, która pozwala wyświetlić dane w formie tabeli."
   ]
  },
  {
   "cell_type": "code",
   "execution_count": null,
   "metadata": {},
   "outputs": [],
   "source": [
    "import pandas as pd\n",
    "actual_series = pd.Series(test_labels_g, name='Actual')\n",
    "predicted_series = pd.Series(predicted_groups, name='Predicted')\n",
    "df_confusion = pd.crosstab(actual_series, predicted_series)\n",
    "df_confusion"
   ]
  },
  {
   "cell_type": "markdown",
   "metadata": {},
   "source": [
    "Analiza poprawności zaklasyfikowania jednej grupy znaków na przykładzie znaków ostrzegawczych"
   ]
  },
  {
   "cell_type": "code",
   "execution_count": null,
   "metadata": {},
   "outputs": [],
   "source": [
    "#znaki ostrzegawcze były oznaczone etykietą 1 \n",
    "test_labels_g[test_labels_g!=1]=0 #zmiana wszystkich etykiet innych niż 1 na 0\n",
    "predicted_groups[predicted_groups!=1]=0"
   ]
  },
  {
   "cell_type": "code",
   "execution_count": null,
   "metadata": {
    "scrolled": true
   },
   "outputs": [],
   "source": [
    "print(predicted_groups[:30])\n",
    "print(test_labels_g[:30])"
   ]
  },
  {
   "cell_type": "markdown",
   "metadata": {},
   "source": [
    "Ile obiektów ze zbioru testowego zostało poprawnie zaklasyfikowanych?"
   ]
  },
  {
   "cell_type": "code",
   "execution_count": null,
   "metadata": {},
   "outputs": [],
   "source": [
    "accuracy_score(test_labels_g, predicted_groups, normalize=True)"
   ]
  },
  {
   "cell_type": "code",
   "execution_count": null,
   "metadata": {},
   "outputs": [],
   "source": [
    "np.sum(test_labels_g==0)"
   ]
  },
  {
   "cell_type": "code",
   "execution_count": null,
   "metadata": {},
   "outputs": [],
   "source": [
    "np.sum(test_labels_g==1)"
   ]
  },
  {
   "cell_type": "code",
   "execution_count": null,
   "metadata": {},
   "outputs": [],
   "source": [
    "np.sum(test_labels_g==0)/len(test_labels_g)"
   ]
  },
  {
   "cell_type": "markdown",
   "metadata": {},
   "source": [
    "Który klasyfikator jest lepszy?<br>\n",
    "Klasyfikujący 55% danych poprawnie czy klasyfikujący 71% danych poprawnie?"
   ]
  },
  {
   "cell_type": "code",
   "execution_count": null,
   "metadata": {},
   "outputs": [],
   "source": [
    "plt.figure()\n",
    "cm=confusion_matrix(test_labels_g, predicted_groups)\n",
    "plt.imshow(cm, interpolation='nearest', cmap=plt.cm.Blues)\n",
    "plt.xlabel(\"Predicted\", fontsize=20)\n",
    "plt.ylabel(\"Actual\", fontsize=20)\n",
    "plt.xticks([0,1], ('Inny', 'Ostrzegawczy'))\n",
    "plt.yticks([0,1], ('Inny', 'Ostrzegawczy'))\n",
    "s = [['TN','FP'], ['FN', 'TP']]\n",
    "for i in range(2):\n",
    "    for j in range(2):\n",
    "        plt.text(j,i, str(s[i][j])+\"\\n\"+str(cm[i][j]), fontsize=20, verticalalignment='center', horizontalalignment='center')"
   ]
  },
  {
   "cell_type": "code",
   "execution_count": null,
   "metadata": {},
   "outputs": [],
   "source": [
    "tn, fp, fn, tp = confusion_matrix(test_labels_g, predicted_groups).ravel()"
   ]
  },
  {
   "cell_type": "markdown",
   "metadata": {},
   "source": [
    "Czułość - TPR (True Positive Rate), sensitivity, recall"
   ]
  },
  {
   "cell_type": "markdown",
   "metadata": {},
   "source": [
    "$ TPR = P(y_{predicted}=true/y_{actual}=true) = \\frac{TP}{TP+FN} $"
   ]
  },
  {
   "cell_type": "code",
   "execution_count": null,
   "metadata": {},
   "outputs": [],
   "source": [
    "TPR=tp/(tp+fn)\n",
    "TPR"
   ]
  },
  {
   "cell_type": "markdown",
   "metadata": {},
   "source": [
    "Swoistość - TNR (True Negative Rate), specificity, selectivity"
   ]
  },
  {
   "cell_type": "markdown",
   "metadata": {},
   "source": [
    "$ TNR = P(y_{predicted}=false/y_{actual}=false) = \\frac{TN}{TN+FP} $"
   ]
  },
  {
   "cell_type": "code",
   "execution_count": null,
   "metadata": {},
   "outputs": [],
   "source": [
    "TNR=tn/(tn+fp)\n",
    "TNR"
   ]
  },
  {
   "cell_type": "markdown",
   "metadata": {},
   "source": [
    "___"
   ]
  },
  {
   "cell_type": "markdown",
   "metadata": {},
   "source": [
    "Reprezentacja przestrzeni cech na płaszczyźnie za pomoca TSNE"
   ]
  },
  {
   "cell_type": "code",
   "execution_count": null,
   "metadata": {},
   "outputs": [],
   "source": [
    "import random\n",
    "image_features = convertToRelativeRGB(images)\n",
    "random_indices = np.array(random.sample(range(len(image_features)), 1000))\n",
    "image_features[random_indices]"
   ]
  },
  {
   "cell_type": "code",
   "execution_count": null,
   "metadata": {},
   "outputs": [],
   "source": [
    "from sklearn.manifold import TSNE\n",
    "model = TSNE(learning_rate=100)\n",
    "transformed = model.fit_transform(image_features[random_indices])\n",
    "\n",
    "xs=transformed[:,0]\n",
    "ys=transformed[:,1]"
   ]
  },
  {
   "cell_type": "code",
   "execution_count": null,
   "metadata": {},
   "outputs": [],
   "source": [
    "from matplotlib.offsetbox import OffsetImage, AnnotationBbox\n",
    "\n",
    "x = transformed[:,0]\n",
    "y = transformed[:,1]\n",
    "images_array = images[random_indices]\n",
    "\n",
    "fig = plt.figure()\n",
    "ax = fig.add_subplot(111)\n",
    "\n",
    "cmap = plt.get_cmap('gnuplot')\n",
    "#colors = [cmap(i/42) for i in labels[random_indices]]\n",
    "colors = [cmap(i/3) for i in labels_groups[random_indices]]\n",
    "\n",
    "line = ax.scatter(x,y, marker=\"o\", color=colors)\n",
    "\n",
    "im = OffsetImage(images_array[0], zoom=5)\n",
    "xybox=(50., 50.)\n",
    "ab = AnnotationBbox(im, (0,0), xybox=xybox, xycoords='data',\n",
    "        boxcoords=\"offset points\",  pad=0.3,  arrowprops=dict(arrowstyle=\"->\"))\n",
    "\n",
    "ax.add_artist(ab)\n",
    "ab.set_visible(False)\n",
    "\n",
    "def hover(event):\n",
    "    # if the mouse is over the scatter points\n",
    "    if line.contains(event)[0]:\n",
    "        # find out the index within the array from the event\n",
    "        ind = line.contains(event)[1][\"ind\"][0]\n",
    "        # get the figure size\n",
    "        w,h = fig.get_size_inches()*fig.dpi\n",
    "        ws = (event.x > w/2.)*-1 + (event.x <= w/2.) \n",
    "        hs = (event.y > h/2.)*-1 + (event.y <= h/2.)\n",
    "        # if event occurs in the top or right quadrant of the figure,\n",
    "        # change the annotation box position relative to mouse.\n",
    "        ab.xybox = (xybox[0]*ws, xybox[1]*hs)\n",
    "        # make annotation box visible\n",
    "        ab.set_visible(True)\n",
    "        # place it at the position of the hovered scatter point\n",
    "        ab.xy =(x[ind], y[ind])\n",
    "        # set the image corresponding to that point\n",
    "        im.set_data(images_array[ind])\n",
    "    else:\n",
    "        #if the mouse is not over a scatter point\n",
    "        ab.set_visible(False)\n",
    "    fig.canvas.draw_idle()\n",
    "\n",
    "# add callback for mouse moves\n",
    "fig.canvas.mpl_connect('motion_notify_event', hover)           \n",
    "plt.show()"
   ]
  },
  {
   "cell_type": "code",
   "execution_count": null,
   "metadata": {},
   "outputs": [],
   "source": [
    "%matplotlib inline"
   ]
  },
  {
   "cell_type": "markdown",
   "metadata": {},
   "source": [
    "<H3>Ćwiczenie zaliczeniowe<H3>\n",
    "\n",
    "Celem ćwiczenia jest:\n",
    "- przećwiczenie wiedzy o klasyfikatorach\n",
    "\n",
    "Zadanie:\n",
    "\n",
    "Część 1:\n",
    "- pobierz bazę danych covertype (https://archive.ics.uci.edu/ml/datasets/Covertype)  \n",
    "należy wykorzystać funkcję: https://scikit-learn.org/stable/modules/generated/sklearn.datasets.fetch_covtype.html\n",
    "- zwizualizuj dane przy użyciu TSNE\n",
    "- napisz własna implementację klasyfikatora kNN\n",
    "- naucz klasyfikator kNN\n",
    "- naucz KNeighborsClassifier ze scikit-learn\n",
    "- przeanalizuj i porównaj wyniki klasyfikatorów (confusion matrix, wykres k vs accuracy)\n",
    "- napisz własną implementację klasyfikatora kNM\n",
    "- naucz klasyfikator kNM\n",
    "- porównaj accuracy własnego kNM z obiema wersjami kNN\n",
    "- porównaj zużycie pamięci obu typów klasyfikacji\n",
    "\n",
    "Część 2:\n",
    "- wykorzystując bazę danych GTSRB zbuduj własną reprezentację danych o znakach (własny wektor cech, minimum 5 cech)\n",
    "- zwizualizuj dane przy użyciu TSNE\n",
    "- w oparciu o stworzony zestaw cech porównaj klasyfikatory z części 1"
   ]
  },
  {
   "cell_type": "markdown",
   "metadata": {},
   "source": [
    "___"
   ]
  },
  {
   "cell_type": "code",
   "execution_count": null,
   "metadata": {},
   "outputs": [],
   "source": []
  }
 ],
 "metadata": {
  "kernelspec": {
   "display_name": "Python 3",
   "language": "python",
   "name": "python3"
  },
  "language_info": {
   "codemirror_mode": {
    "name": "ipython",
    "version": 3
   },
   "file_extension": ".py",
   "mimetype": "text/x-python",
   "name": "python",
   "nbconvert_exporter": "python",
   "pygments_lexer": "ipython3",
   "version": "3.7.4"
  }
 },
 "nbformat": 4,
 "nbformat_minor": 2
}
