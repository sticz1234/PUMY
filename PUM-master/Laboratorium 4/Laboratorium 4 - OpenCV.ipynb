{
 "cells": [
  {
   "cell_type": "markdown",
   "metadata": {},
   "source": [
    "<H3>Wczytwanie i przetwarzanie obrazów za pomocą biblioteki OpenCV</H3>"
   ]
  },
  {
   "cell_type": "markdown",
   "metadata": {},
   "source": [
    "Importowanie potrzebnych bibliotek"
   ]
  },
  {
   "cell_type": "code",
   "execution_count": 1,
   "metadata": {},
   "outputs": [
    {
     "ename": "ModuleNotFoundError",
     "evalue": "No module named 'cv2'",
     "output_type": "error",
     "traceback": [
      "\u001b[1;31m---------------------------------------------------------------------------\u001b[0m",
      "\u001b[1;31mModuleNotFoundError\u001b[0m                       Traceback (most recent call last)",
      "\u001b[1;32m<ipython-input-1-21a6cc873f94>\u001b[0m in \u001b[0;36m<module>\u001b[1;34m\u001b[0m\n\u001b[0;32m      2\u001b[0m \u001b[1;32mimport\u001b[0m \u001b[0mnumpy\u001b[0m \u001b[1;32mas\u001b[0m \u001b[0mnp\u001b[0m\u001b[1;33m\u001b[0m\u001b[1;33m\u001b[0m\u001b[0m\n\u001b[0;32m      3\u001b[0m \u001b[1;32mimport\u001b[0m \u001b[0mcsv\u001b[0m\u001b[1;33m\u001b[0m\u001b[1;33m\u001b[0m\u001b[0m\n\u001b[1;32m----> 4\u001b[1;33m \u001b[1;32mimport\u001b[0m \u001b[0mcv2\u001b[0m\u001b[1;33m\u001b[0m\u001b[1;33m\u001b[0m\u001b[0m\n\u001b[0m\u001b[0;32m      5\u001b[0m \u001b[1;32mimport\u001b[0m \u001b[0mmath\u001b[0m\u001b[1;33m\u001b[0m\u001b[1;33m\u001b[0m\u001b[0m\n",
      "\u001b[1;31mModuleNotFoundError\u001b[0m: No module named 'cv2'"
     ]
    }
   ],
   "source": [
    "import matplotlib.pyplot as plt\n",
    "import numpy as np\n",
    "import csv\n",
    "import cv2\n",
    "import math"
   ]
  },
  {
   "cell_type": "markdown",
   "metadata": {},
   "source": [
    "Wczytwanie danych"
   ]
  },
  {
   "cell_type": "code",
   "execution_count": 2,
   "metadata": {},
   "outputs": [],
   "source": [
    "# function for reading the images\n",
    "# arguments: path to the traffic sign data, for example './GTSRB/Training'\n",
    "# returns: list of images, list of corresponding labels \n",
    "def readTrafficSigns(rootpath):\n",
    "    '''Reads traffic sign data for German Traffic Sign Recognition Benchmark.\n",
    "\n",
    "    Arguments: path to the traffic sign data, for example './GTSRB/Training'\n",
    "    Returns:   list of images, list of corresponding labels'''\n",
    "    images = [] # images\n",
    "    labels = [] # corresponding labels\n",
    "    # loop over all 42 classes\n",
    "    for c in range(0,43):\n",
    "        prefix = rootpath + '/' + format(c, '05d') + '/' # subdirectory for class\n",
    "        gtFile = open(prefix + 'GT-'+ format(c, '05d') + '.csv') # annotations file\n",
    "        gtReader = csv.reader(gtFile, delimiter=';') # csv parser for annotations file\n",
    "        next(gtReader)\n",
    "        # loop over all images in current annotations file\n",
    "        for row in gtReader:\n",
    "            x1,y1,x2,y2 = map(int,row[3:7])\n",
    "            images.append(np.array(plt.imread(prefix + row[0]))[y1:y2,x1:x2]) # the 1th column is the filename\n",
    "            labels.append(int(row[7])) # the 8th column is the label\n",
    "        gtFile.close()\n",
    "    return np.array(images), np.array(labels)"
   ]
  },
  {
   "cell_type": "markdown",
   "metadata": {},
   "source": [
    "Wczytanie danych z folderu"
   ]
  },
  {
   "cell_type": "code",
   "execution_count": 3,
   "metadata": {},
   "outputs": [],
   "source": [
    "path = r\"..\\GTSRB\\Final_Training\\Images\"\n",
    "images, labels = readTrafficSigns(path)"
   ]
  },
  {
   "cell_type": "markdown",
   "metadata": {},
   "source": [
    "Wybranie jednego przykładu do analizy"
   ]
  },
  {
   "cell_type": "code",
   "execution_count": 4,
   "metadata": {},
   "outputs": [
    {
     "data": {
      "image/png": "[encoded data removed]",
      "text/plain": [
       "<Figure size 432x288 with 1 Axes>"
      ]
     },
     "metadata": {
      "needs_background": "light"
     },
     "output_type": "display_data"
    }
   ],
   "source": [
    "img_nr = 35000\n",
    "plt.figure()\n",
    "plt.imshow(images[img_nr])\n",
    "plt.show()"
   ]
  },
  {
   "cell_type": "markdown",
   "metadata": {},
   "source": [
    "Wyświetlanie obrazu za pomocą OpenCV. Zamknięcie okna przez naciśnięcie dowolnego klawisza."
   ]
  },
  {
   "cell_type": "code",
   "execution_count": 5,
   "metadata": {},
   "outputs": [],
   "source": [
    "cv2.imshow(\"Sign\",images[img_nr])\n",
    "cv2.waitKey(0)\n",
    "cv2.destroyAllWindows()"
   ]
  },
  {
   "cell_type": "markdown",
   "metadata": {},
   "source": [
    "Wyświetlanie powiększonego obrazu."
   ]
  },
  {
   "cell_type": "code",
   "execution_count": 6,
   "metadata": {},
   "outputs": [],
   "source": [
    "width, height, channels = np.shape(images[img_nr])\n",
    "img_resized = cv2.resize(images[img_nr], (width*5, height*5))\n",
    "cv2.imshow(\"Sign\", img_resized)\n",
    "cv2.waitKey(0)\n",
    "cv2.destroyAllWindows()"
   ]
  },
  {
   "cell_type": "markdown",
   "metadata": {},
   "source": [
    "OpenCV przechowuje obrazy w formie macierzy pikseli, z których każdy zawiera trzy wartości kolorów BGR.<br>\n",
    "Należy więc zmienić format zapisu danych z RGB do BGR."
   ]
  },
  {
   "cell_type": "code",
   "execution_count": 7,
   "metadata": {},
   "outputs": [],
   "source": [
    "img_bgr = cv2.cvtColor(img_resized,cv2.COLOR_RGB2BGR)"
   ]
  },
  {
   "cell_type": "code",
   "execution_count": 8,
   "metadata": {},
   "outputs": [],
   "source": [
    "cv2.imshow(\"Sign BGR\", img_bgr)\n",
    "cv2.waitKey(0)\n",
    "cv2.destroyAllWindows()"
   ]
  },
  {
   "cell_type": "code",
   "execution_count": 9,
   "metadata": {},
   "outputs": [],
   "source": [
    "img_gray = cv2.cvtColor(img_bgr,cv2.COLOR_BGR2GRAY)"
   ]
  },
  {
   "cell_type": "code",
   "execution_count": 10,
   "metadata": {},
   "outputs": [],
   "source": [
    "cv2.imshow(\"Sign gray\", img_gray)\n",
    "cv2.waitKey(0)\n",
    "cv2.destroyAllWindows()"
   ]
  },
  {
   "cell_type": "markdown",
   "metadata": {},
   "source": [
    "<H4>Hitogram obrazu czarno-białego</H4>"
   ]
  },
  {
   "cell_type": "code",
   "execution_count": 11,
   "metadata": {},
   "outputs": [
    {
     "data": {
      "image/png": "[encoded data removed]",
      "text/plain": [
       "<Figure size 432x288 with 1 Axes>"
      ]
     },
     "metadata": {
      "needs_background": "light"
     },
     "output_type": "display_data"
    }
   ],
   "source": [
    "histr = cv2.calcHist([img_gray],[0],None,[128],[0,128])\n",
    "plt.plot(histr)\n",
    "plt.show()"
   ]
  },
  {
   "cell_type": "markdown",
   "metadata": {},
   "source": [
    "<H4>Hitogram obrazu kolorowego</H4>"
   ]
  },
  {
   "cell_type": "code",
   "execution_count": 12,
   "metadata": {},
   "outputs": [
    {
     "data": {
      "image/png": "[encoded data removed]",
      "text/plain": [
       "<Figure size 432x288 with 1 Axes>"
      ]
     },
     "metadata": {
      "needs_background": "light"
     },
     "output_type": "display_data"
    }
   ],
   "source": [
    "color = ('b','g','r')\n",
    "for i,col in enumerate(color):\n",
    "    histr = cv2.calcHist([img_bgr],[i],None,[128],[0,128])\n",
    "    plt.plot(histr,color = col)\n",
    "    plt.xlim([0,128])\n",
    "plt.show()"
   ]
  },
  {
   "cell_type": "markdown",
   "metadata": {},
   "source": [
    "<H2>HOG descriptor - Histogram of Oriented Gradients</H2>"
   ]
  },
  {
   "cell_type": "markdown",
   "metadata": {},
   "source": [
    "Wczytujemy i zmiejszamy przykładowy obraz"
   ]
  },
  {
   "cell_type": "code",
   "execution_count": 13,
   "metadata": {},
   "outputs": [],
   "source": [
    "test = cv2.imread('./test.jpg')\n",
    "width, height, channels = np.shape(test)\n",
    "width, height = width//2, height//2\n",
    "test = cv2.resize(test, ( height, width) )"
   ]
  },
  {
   "cell_type": "code",
   "execution_count": 14,
   "metadata": {
    "scrolled": true
   },
   "outputs": [
    {
     "data": {
      "text/plain": [
       "<matplotlib.image.AxesImage at 0x1336eaa7f60>"
      ]
     },
     "execution_count": 14,
     "metadata": {},
     "output_type": "execute_result"
    },
    {
     "data": {
      "image/png": "[encoded data removed]",
      "text/plain": [
       "<Figure size 432x288 with 1 Axes>"
      ]
     },
     "metadata": {
      "needs_background": "light"
     },
     "output_type": "display_data"
    }
   ],
   "source": [
    "plt.imshow(test)"
   ]
  },
  {
   "cell_type": "markdown",
   "metadata": {},
   "source": [
    "Za pomocą operatora Sobela wykrywane są krawędzie - gradienty"
   ]
  },
  {
   "cell_type": "code",
   "execution_count": 15,
   "metadata": {},
   "outputs": [
    {
     "data": {
      "image/png": "[encoded data removed]",
      "text/plain": [
       "<Figure size 432x288 with 2 Axes>"
      ]
     },
     "metadata": {
      "needs_background": "light"
     },
     "output_type": "display_data"
    }
   ],
   "source": [
    "test_f = np.float32(test) / 255.0\n",
    " \n",
    "# Calculate gradient \n",
    "gx = cv2.Sobel(test_f, cv2.CV_32F, 1, 0, ksize=1)\n",
    "gy = cv2.Sobel(test_f, cv2.CV_32F, 0, 1, ksize=1)\n",
    "\n",
    "f, (ax1, ax2) = plt.subplots(1, 2)\n",
    "ax1.imshow((gx+1)/2.)\n",
    "ax1.set_title(\"Vertical edges dx\")\n",
    "\n",
    "ax2.imshow((gy+1)/2.)\n",
    "ax2.set_title(\"Horizontal edges dy\")\n",
    "plt.show()"
   ]
  },
  {
   "cell_type": "markdown",
   "metadata": {},
   "source": [
    "Zmiana współrzędnych z kartezjańskich na polarne.<br>\n",
    "$ g = \\sqrt{g_x^2+g_y^2} \\\\\n",
    "\\theta = arctan(\\frac{g_y}{g_x}) $"
   ]
  },
  {
   "cell_type": "code",
   "execution_count": 16,
   "metadata": {},
   "outputs": [
    {
     "data": {
      "text/plain": [
       "Text(0.5, 1.0, 'Magnitude of gradient')"
      ]
     },
     "execution_count": 16,
     "metadata": {},
     "output_type": "execute_result"
    },
    {
     "data": {
      "image/png": "[encoded data removed]",
      "text/plain": [
       "<Figure size 432x288 with 1 Axes>"
      ]
     },
     "metadata": {
      "needs_background": "light"
     },
     "output_type": "display_data"
    }
   ],
   "source": [
    "magnitude, angle = cv2.cartToPolar(gx, gy, angleInDegrees=True)\n",
    "plt.imshow(magnitude/np.max(magnitude))\n",
    "plt.title(\"Magnitude of gradient\")"
   ]
  },
  {
   "cell_type": "markdown",
   "metadata": {},
   "source": [
    "Następny krok to podział obrazu na komórki o rozmiarze 8x8, w takiej komórce spodziewamy się objąć dyskryminatywną cechę. Rozmiar powinien zależeć od rozdzielczości obrazka i rodzaju cech jakich szukamy. Każdą komórkę opiszemy za pomocą 9 liczb, zamiast 128."
   ]
  },
  {
   "cell_type": "code",
   "execution_count": 17,
   "metadata": {},
   "outputs": [
    {
     "data": {
      "text/plain": [
       "<matplotlib.image.AxesImage at 0x1336ebf5390>"
      ]
     },
     "execution_count": 17,
     "metadata": {},
     "output_type": "execute_result"
    },
    {
     "data": {
      "image/png": "[encoded data removed]",
      "text/plain": [
       "<Figure size 432x288 with 1 Axes>"
      ]
     },
     "metadata": {
      "needs_background": "light"
     },
     "output_type": "display_data"
    }
   ],
   "source": [
    "cellSize=16\n",
    "test_cells=np.copy(test)\n",
    "for x in range(1, width//cellSize+1):\n",
    "    test_cells[x*cellSize,:]=1\n",
    "for y in range(1, height//cellSize+1):\n",
    "    test_cells[:,y*cellSize]=1\n",
    "plt.imshow(test_cells)"
   ]
  },
  {
   "cell_type": "code",
   "execution_count": 18,
   "metadata": {},
   "outputs": [
    {
     "data": {
      "text/plain": [
       "<matplotlib.image.AxesImage at 0x1336ec44ef0>"
      ]
     },
     "execution_count": 18,
     "metadata": {},
     "output_type": "execute_result"
    },
    {
     "data": {
      "image/png": "[encoded data removed]",
      "text/plain": [
       "<Figure size 432x288 with 1 Axes>"
      ]
     },
     "metadata": {
      "needs_background": "light"
     },
     "output_type": "display_data"
    }
   ],
   "source": [
    "x=6\n",
    "y=7\n",
    "plt.imshow(test[y*cellSize:(y+1)*cellSize, x*cellSize:(x+1)*cellSize])"
   ]
  },
  {
   "cell_type": "markdown",
   "metadata": {},
   "source": [
    "Dla każdej komórki liczony jest histogram gradientów. Histogram ma nbins przedziałów, z których każdy odpowiada kątom. Każdy piksel dla którego był obliczony gradient głosuje na odpowiedni kąt z wykorzystaniem wielkości tego gradientu. Na przykład analizując parę wartości: kąt = 5, wielkość = 20. Zwiększyć należy wartości w przedziałach o indeksie 0 i 1, w proporcjach 1:3, czyli przedział 0 zostanie zwiększony o 5, a przedział 1 o 15.\n",
    "\n",
    "\n",
    "|Indeks| 0 | 1 | 2 | 3 | 4 | 5 | 6 | 7 | 8 | \n",
    "|--------|--------|--------|--------|--------|--------|--------|--------|--------|--------|\n",
    "| Kąt | 0 | 20 | 40 | 60 | 80 | 100 | 120 | 140 | 160 | \n",
    "\n",
    "\n",
    "\n",
    "[//]: # (| Zakres | 170 - 10 |10 - 30 |30 - 50 |50 - 70 |70 - 90 |90 - 110 |110 - 130 |130 - 150 |150 - 170 |)\n",
    "\n"
   ]
  },
  {
   "cell_type": "code",
   "execution_count": 19,
   "metadata": {},
   "outputs": [],
   "source": [
    "def getHOGforCell(cell_magnitude, cell_angle, nbins=9):\n",
    "    result = np.zeros((nbins))\n",
    "    bin_size=180/nbins\n",
    "    \n",
    "    for mag, ang in zip(np.reshape(cell_magnitude,(-1,1)), np.reshape(cell_angle,(-1,1)) ):\n",
    "        bin_idx=ang/180.*9\n",
    "        l_bin = int(bin_idx)\n",
    "        r_bin = math.ceil(bin_idx)\n",
    "\n",
    "        if l_bin==nbins:\n",
    "            l_bin=0\n",
    "        if r_bin==nbins:\n",
    "            r_bin=0\n",
    "            \n",
    "        ratio = bin_idx - l_bin\n",
    "        \n",
    "        result[l_bin] += mag*ratio\n",
    "        result[r_bin] += mag*(1-ratio)  \n",
    "    return result"
   ]
  },
  {
   "cell_type": "markdown",
   "metadata": {},
   "source": [
    "Wizualizacja histogramu dla jednej komórki."
   ]
  },
  {
   "cell_type": "code",
   "execution_count": 20,
   "metadata": {},
   "outputs": [
    {
     "data": {
      "text/plain": [
       "([<matplotlib.axis.XTick at 0x1336ec9cd68>,\n",
       "  <matplotlib.axis.XTick at 0x1336ec9c6a0>,\n",
       "  <matplotlib.axis.XTick at 0x1336ec9c3c8>,\n",
       "  <matplotlib.axis.XTick at 0x1336ecc5b70>,\n",
       "  <matplotlib.axis.XTick at 0x1336ecd00b8>,\n",
       "  <matplotlib.axis.XTick at 0x1336ecd0518>,\n",
       "  <matplotlib.axis.XTick at 0x1336ecd09e8>,\n",
       "  <matplotlib.axis.XTick at 0x1336ecd0eb8>,\n",
       "  <matplotlib.axis.XTick at 0x1336ecd73c8>],\n",
       " <a list of 9 Text xticklabel objects>)"
      ]
     },
     "execution_count": 20,
     "metadata": {},
     "output_type": "execute_result"
    },
    {
     "data": {
      "image/png": "[encoded data removed]",
      "text/plain": [
       "<Figure size 432x288 with 1 Axes>"
      ]
     },
     "metadata": {
      "needs_background": "light"
     },
     "output_type": "display_data"
    }
   ],
   "source": [
    "hist = getHOGforCell(magnitude[y*cellSize:(y+1)*cellSize, x*cellSize:(x+1)*cellSize], \n",
    "                         angle[y*cellSize:(y+1)*cellSize, x*cellSize:(x+1)*cellSize]/2.)\n",
    "plt.figure()\n",
    "plt.bar(np.arange(0,180,20), hist, width=18)\n",
    "plt.xticks(np.arange(0,180,20))"
   ]
  },
  {
   "cell_type": "markdown",
   "metadata": {},
   "source": [
    "Obliczenie histogramów gradientów dla wszystkich komorek w obrazie."
   ]
  },
  {
   "cell_type": "code",
   "execution_count": 21,
   "metadata": {},
   "outputs": [],
   "source": [
    "HOG = np.zeros(((height//cellSize),(width//cellSize),9))\n",
    "for x in range(height//cellSize):\n",
    "    for y in range(width//cellSize):\n",
    "        HOG[x,y] = getHOGforCell(magnitude[y*cellSize:(y+1)*cellSize, x*cellSize:(x+1)*cellSize], \n",
    "                                 angle[y*cellSize:(y+1)*cellSize, x*cellSize:(x+1)*cellSize]/2.)"
   ]
  },
  {
   "cell_type": "code",
   "execution_count": 22,
   "metadata": {},
   "outputs": [],
   "source": [
    "def displayHOG(img, HOG):\n",
    "    width, height, channels = np.shape(img)\n",
    "    plt.imshow(test_cells)\n",
    "    colors = ('y','yellow','orange','r','darkviolet','b','c','g','lime')\n",
    "\n",
    "    for x in range(height//cellSize):\n",
    "        for y in range(width//cellSize):\n",
    "            mx = x * cellSize + cellSize/2;\n",
    "            my = y * cellSize + cellSize/2;\n",
    "\n",
    "            for i in range(9):\n",
    "                gradientMagnitude = HOG[x,y,i]\n",
    "\n",
    "                gradientAngle = i * np.pi/9. + np.pi/2\n",
    "\n",
    "                X = gradientMagnitude * np.cos(gradientAngle)\n",
    "                Y = gradientMagnitude * np.sin(gradientAngle)    \n",
    "\n",
    "                scale = 0.05\n",
    "\n",
    "                x1 = mx - X * scale\n",
    "                y1 = my - Y * scale\n",
    "                x2 = mx + X * scale\n",
    "                y2 = my + Y * scale\n",
    "\n",
    "                plt.plot([x1,x2], [y1,y2],c=colors[i])"
   ]
  },
  {
   "cell_type": "code",
   "execution_count": 23,
   "metadata": {},
   "outputs": [
    {
     "data": {
      "image/png": "[encoded data removed]",
      "text/plain": [
       "<Figure size 432x288 with 1 Axes>"
      ]
     },
     "metadata": {
      "needs_background": "light"
     },
     "output_type": "display_data"
    }
   ],
   "source": [
    "displayHOG(test_cells, HOG)"
   ]
  },
  {
   "cell_type": "markdown",
   "metadata": {},
   "source": [
    "W cely zminimalizowania wpływu jasności obrazu na gradienty wykonywana jest normalizacja."
   ]
  },
  {
   "cell_type": "code",
   "execution_count": null,
   "metadata": {},
   "outputs": [],
   "source": [
    "def normalizeHOG(HOG, blockSize):\n",
    "    width, height, channels = np.shape(HOG)\n",
    "    result = np.zeros(np.shape(HOG))\n",
    "    for x in range(width//blockSize[1]):\n",
    "        for y in range(height//blockSize[0]):\n",
    "            xb =     x*blockSize[0]\n",
    "            xe = (x+1)*blockSize[0]\n",
    "            yb =     y*blockSize[1]\n",
    "            ye = (y+1)*blockSize[1]\n",
    "            vector_len = np.linalg.norm(HOG[ xb:xe, yb:ye])\n",
    "            \n",
    "            if vector_len!=0:\n",
    "                result[xb:xe, yb:ye] = HOG[xb:xe, yb:ye]/vector_len *100\n",
    "\n",
    "    return result"
   ]
  },
  {
   "cell_type": "code",
   "execution_count": null,
   "metadata": {},
   "outputs": [
    {
     "data": {
      "image/png": "[encoded data removed]",
      "text/plain": [
       "<Figure size 432x288 with 1 Axes>"
      ]
     },
     "metadata": {
      "needs_background": "light"
     },
     "output_type": "display_data"
    }
   ],
   "source": [
    "HOG_normalized = normalizeHOG(HOG, (2,2))\n",
    "displayHOG(test_cells, HOG_normalized)"
   ]
  },
  {
   "cell_type": "markdown",
   "metadata": {},
   "source": [
    "<H2>Analiza obrazu dłoni</H2>"
   ]
  },
  {
   "cell_type": "markdown",
   "metadata": {
    "collapsed": true
   },
   "source": [
    "Wczytywanie za pomocą opencv"
   ]
  },
  {
   "cell_type": "code",
   "execution_count": null,
   "metadata": {},
   "outputs": [
    {
     "data": {
      "text/plain": [
       "(3640, 2720)"
      ]
     },
     "execution_count": 26,
     "metadata": {},
     "output_type": "execute_result"
    }
   ],
   "source": [
    "h1 = cv2.imread('./1.jpg')\n",
    "width, height, channels = np.shape(h1)\n",
    "width, height"
   ]
  },
  {
   "cell_type": "code",
   "execution_count": null,
   "metadata": {},
   "outputs": [],
   "source": [
    "cv2.imshow(\"hand1\",  cv2.resize(h1, (300, 400)) )\n",
    "cv2.waitKey(5000)\n",
    "cv2.destroyAllWindows()"
   ]
  },
  {
   "cell_type": "markdown",
   "metadata": {},
   "source": [
    "Wybranie obszarów o interesującym nas kolorze"
   ]
  },
  {
   "cell_type": "code",
   "execution_count": null,
   "metadata": {},
   "outputs": [],
   "source": [
    "#zmiana przestrzeni kolorów z BGR do HSV\n",
    "h1_hsv = cv2.cvtColor(h1, cv2.COLOR_BGR2HSV)\n",
    "\n",
    "#określenie zakresu kolorów, które nas interesują (w przestrzeni HSV)\n",
    "lower = np.array([120,30,30])\n",
    "upper = np.array([160,255,255])\n",
    "\n",
    "#Progowanie obrazu za pomocą zdefiniowanych zakresów\n",
    "h1_mask = cv2.inRange(h1_hsv, lower, upper)\n",
    "    \n",
    "cv2.imshow(\"hand1\",  cv2.resize(h1_mask, (300, 400)) )\n",
    "cv2.waitKey(5000)\n",
    "cv2.destroyAllWindows()"
   ]
  },
  {
   "cell_type": "markdown",
   "metadata": {},
   "source": [
    "Dokumentacja:\n",
    "https://docs.opencv.org/2.4/modules/imgproc/doc/structural_analysis_and_shape_descriptors.html"
   ]
  },
  {
   "cell_type": "code",
   "execution_count": null,
   "metadata": {
    "scrolled": false
   },
   "outputs": [
    {
     "name": "stdout",
     "output_type": "stream",
     "text": [
      "(36,)\n"
     ]
    }
   ],
   "source": [
    "contours, hierarchy = cv2.findContours(h1_mask, cv2.RETR_TREE , cv2.CHAIN_APPROX_NONE)\n",
    "print(np.shape(contours))\n",
    "\n",
    "h1_contours = np.copy(h1)\n",
    "\n",
    "cv2.drawContours(h1_contours, contours, -1, (0,0,255), 20, hierarchy=hierarchy, maxLevel = 2)\n",
    "cv2.drawContours(h1_contours, contours, -1, (0,255,0), 20, hierarchy=hierarchy, maxLevel = 1)\n",
    "\n",
    "cv2.imshow(\"Contours\", cv2.resize(h1_contours, (300, 400)))\n",
    "cv2.waitKey(5000)\n",
    "cv2.destroyAllWindows()"
   ]
  },
  {
   "cell_type": "code",
   "execution_count": null,
   "metadata": {},
   "outputs": [
    {
     "name": "stdout",
     "output_type": "stream",
     "text": [
      "36\n"
     ]
    }
   ],
   "source": [
    "print(len(contours))"
   ]
  },
  {
   "cell_type": "code",
   "execution_count": null,
   "metadata": {},
   "outputs": [],
   "source": [
    "h1_contours = np.copy(h1)\n",
    "\n",
    "cv2.drawContours(h1_contours, contours, 0, (0,255,0), 20, hierarchy=hierarchy, maxLevel = 0)\n",
    "cv2.drawContours(h1_contours, contours, 1, (255,255,255), 20, hierarchy=hierarchy, maxLevel = 0)\n",
    "cv2.drawContours(h1_contours, contours, 2, (0,0,255), 20, hierarchy=hierarchy, maxLevel = 0)\n",
    "\n",
    "cv2.imshow(\"Contours\", cv2.resize(h1_contours, (300, 400)))\n",
    "cv2.waitKey(5000)\n",
    "cv2.destroyAllWindows()"
   ]
  },
  {
   "cell_type": "code",
   "execution_count": null,
   "metadata": {
    "scrolled": true
   },
   "outputs": [],
   "source": [
    "for c in contours:\n",
    "    print(len(c))"
   ]
  },
  {
   "cell_type": "code",
   "execution_count": null,
   "metadata": {
    "scrolled": true
   },
   "outputs": [],
   "source": [
    "long_contours = [c for c in contours if len(c)>100]\n",
    "for c in long_contours:\n",
    "    print(len(c))"
   ]
  },
  {
   "cell_type": "code",
   "execution_count": null,
   "metadata": {},
   "outputs": [],
   "source": [
    "h1_contours = np.copy(h1)\n",
    "\n",
    "cv2.drawContours(h1_contours, long_contours, 0, (0,255,0), 20, hierarchy=hierarchy, maxLevel = 0)\n",
    "cv2.drawContours(h1_contours, long_contours, 1, (255,0,0), 20, hierarchy=hierarchy, maxLevel = 0)\n",
    "cv2.drawContours(h1_contours, long_contours, 2, (0,0,255), 20, hierarchy=hierarchy, maxLevel = 0)\n",
    "\n",
    "cv2.imshow(\"Contours\", cv2.resize(h1_contours, (300, 400)))\n",
    "cv2.waitKey(5000)\n",
    "cv2.destroyAllWindows()"
   ]
  },
  {
   "cell_type": "markdown",
   "metadata": {},
   "source": [
    "Obliczanie pola konturu"
   ]
  },
  {
   "cell_type": "code",
   "execution_count": null,
   "metadata": {},
   "outputs": [],
   "source": [
    "cv2.contourArea(long_contours[0])"
   ]
  },
  {
   "cell_type": "markdown",
   "metadata": {},
   "source": [
    "Obliczanie obwodu konturu"
   ]
  },
  {
   "cell_type": "code",
   "execution_count": null,
   "metadata": {},
   "outputs": [],
   "source": [
    "cv2.arcLength(long_contours[0],True)#drugi parametr wskazuje na to czy kontur jest zamknięty czy nie"
   ]
  },
  {
   "cell_type": "markdown",
   "metadata": {},
   "source": [
    "Wielokąt wypukły zawierający kontur"
   ]
  },
  {
   "cell_type": "code",
   "execution_count": null,
   "metadata": {},
   "outputs": [],
   "source": [
    "#zmiana obrazu z kolorowego na czarno-biały\n",
    "h1_gray = cv2.cvtColor(h1,cv2.COLOR_BGR2GRAY)\n",
    "\n",
    "convex_hull = cv2.convexHull(long_contours[0])\n",
    "\n",
    "h1_convex_hull = np.zeros_like(h1) \n",
    " \n",
    "cv2.drawContours(h1_convex_hull, long_contours, 0, (255, 0, 0), 20)\n",
    "cv2.drawContours(h1_convex_hull, [convex_hull], 0, (0, 0, 255), 20)\n",
    "\n",
    "cv2.imshow(\"Convex Hull\", cv2.resize(h1_convex_hull, (300, 400)))\n",
    "cv2.waitKey(5000)\n",
    "cv2.destroyAllWindows()"
   ]
  },
  {
   "cell_type": "markdown",
   "metadata": {},
   "source": [
    "Wycięcie ręki z obrazka"
   ]
  },
  {
   "cell_type": "code",
   "execution_count": null,
   "metadata": {},
   "outputs": [],
   "source": [
    "#Utworzenie maski, gdzie biały - 255 oznacza fragmenty, które chcemy zostawić, a czarny - 0 te których się pozbedziemy\n",
    "mask = np.zeros_like(h1_gray) \n",
    "cv2.drawContours(mask, long_contours, 0, 255, -1)\n",
    "\n",
    "cv2.imshow('Mask', cv2.resize(mask, (300, 400)))\n",
    "cv2.waitKey(0)\n",
    "cv2.destroyAllWindows()\n",
    "\n",
    "#przepisujemy na pustą tablicę te wartości pixeli gdzie maska jest równa 255\n",
    "h1_extracted = np.zeros_like(h1_gray) \n",
    "h1_extracted[mask == 255] = h1_gray[mask == 255]\n",
    "\n",
    "cv2.imshow('Output', cv2.resize(h1_extracted, (300, 400)))\n",
    "cv2.waitKey(0)\n",
    "cv2.destroyAllWindows()"
   ]
  },
  {
   "cell_type": "markdown",
   "metadata": {},
   "source": [
    "Obliczanie momentu"
   ]
  },
  {
   "cell_type": "markdown",
   "metadata": {},
   "source": [
    "$ M_{ij} = \\sum _{x}^{}  \\sum _{y}^{} x^iy^jI(x,y) $"
   ]
  },
  {
   "cell_type": "markdown",
   "metadata": {},
   "source": [
    "Najprostrzy moment $M_{00}$ "
   ]
  },
  {
   "cell_type": "markdown",
   "metadata": {},
   "source": [
    "$ M_{00} = \\sum _{x}^{}  \\sum _{y}^{} I(x,y) $"
   ]
  },
  {
   "cell_type": "code",
   "execution_count": null,
   "metadata": {},
   "outputs": [],
   "source": [
    "M = cv2.moments(h1_extracted)\n",
    "M"
   ]
  },
  {
   "cell_type": "markdown",
   "metadata": {},
   "source": [
    "Obliczanie geometrycznego środka za pomocą momentów"
   ]
  },
  {
   "cell_type": "code",
   "execution_count": null,
   "metadata": {},
   "outputs": [],
   "source": [
    "(M[\"m10\"]/M[\"m00\"], M[\"m01\"]/M[\"m00\"])"
   ]
  },
  {
   "cell_type": "code",
   "execution_count": null,
   "metadata": {},
   "outputs": [],
   "source": [
    "HM = cv2.HuMoments(M)\n",
    "HM"
   ]
  },
  {
   "cell_type": "markdown",
   "metadata": {},
   "source": [
    "Momenty Hu w skali logarytmicznej"
   ]
  },
  {
   "cell_type": "markdown",
   "metadata": {},
   "source": [
    "$ H_{i} = -log|h_i| $"
   ]
  },
  {
   "cell_type": "code",
   "execution_count": null,
   "metadata": {},
   "outputs": [],
   "source": [
    "HM_log = [-math.log(abs(hm)) for hm in HM]\n",
    "HM_log"
   ]
  },
  {
   "cell_type": "code",
   "execution_count": null,
   "metadata": {},
   "outputs": [],
   "source": [
    "%matplotlib auto"
   ]
  }
 ],
 "metadata": {
  "kernelspec": {
   "display_name": "Python 3",
   "language": "python",
   "name": "python3"
  },
  "language_info": {
   "codemirror_mode": {
    "name": "ipython",
    "version": 3
   },
   "file_extension": ".py",
   "mimetype": "text/x-python",
   "name": "python",
   "nbconvert_exporter": "python",
   "pygments_lexer": "ipython3",
   "version": "3.7.4"
  }
 },
 "nbformat": 4,
 "nbformat_minor": 2
}
