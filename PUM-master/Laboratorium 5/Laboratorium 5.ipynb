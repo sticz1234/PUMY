{
 "cells": [
  {
   "cell_type": "markdown",
   "metadata": {},
   "source": [
    "<H3>Przetwarzanie i klasyfikacja obrazów za pomocą biblioteki OpenCV</H3>"
   ]
  },
  {
   "cell_type": "code",
   "execution_count": 1,
   "metadata": {},
   "outputs": [],
   "source": [
    "import matplotlib.pyplot as plt\n",
    "import numpy as np\n",
    "import csv\n",
    "import cv2\n",
    "import math"
   ]
  },
  {
   "cell_type": "code",
   "execution_count": 2,
   "metadata": {},
   "outputs": [],
   "source": [
    "data = []\n",
    "labels = []\n",
    "\n",
    "for i in range(1,5):\n",
    "    data.append(cv2.imread('./c'+str(i)+'.png', cv2.IMREAD_GRAYSCALE))\n",
    "    labels.append(0)\n",
    "\n",
    "for i in range(1,4):\n",
    "    data.append(cv2.imread('./s'+str(i)+'.png', cv2.IMREAD_GRAYSCALE))\n",
    "    labels.append(1)"
   ]
  },
  {
   "cell_type": "code",
   "execution_count": 3,
   "metadata": {},
   "outputs": [],
   "source": [
    "cv2.imshow('Output', data[0])\n",
    "cv2.waitKey(0)\n",
    "cv2.destroyAllWindows()"
   ]
  },
  {
   "cell_type": "code",
   "execution_count": 4,
   "metadata": {},
   "outputs": [],
   "source": [
    "contours =[ cv2.findContours(img, cv2.RETR_LIST, cv2.CHAIN_APPROX_NONE)[0][0] for img in data]\n",
    "c_area = [cv2.contourArea(c) for c in contours]\n",
    "c_len = [cv2.arcLength(c,True) for c in contours]"
   ]
  },
  {
   "cell_type": "code",
   "execution_count": 5,
   "metadata": {},
   "outputs": [
    {
     "data": {
      "text/plain": [
       "[7921.0, 6465.5, 7379.0, 1476.5, 5380.5, 6203.5, 13252.0]"
      ]
     },
     "execution_count": 5,
     "metadata": {},
     "output_type": "execute_result"
    }
   ],
   "source": [
    "c_area"
   ]
  },
  {
   "cell_type": "code",
   "execution_count": 6,
   "metadata": {},
   "outputs": [
    {
     "data": {
      "text/plain": [
       "[508.41630148887634,\n",
       " 563.9137753248215,\n",
       " 568.7838325500488,\n",
       " 208.89444243907928,\n",
       " 472.8599525690079,\n",
       " 500.17366087436676,\n",
       " 797.7787802219391]"
      ]
     },
     "execution_count": 6,
     "metadata": {},
     "output_type": "execute_result"
    }
   ],
   "source": [
    "c_len"
   ]
  },
  {
   "cell_type": "code",
   "execution_count": 7,
   "metadata": {},
   "outputs": [
    {
     "data": {
      "text/plain": [
       "(7,)"
      ]
     },
     "execution_count": 7,
     "metadata": {},
     "output_type": "execute_result"
    }
   ],
   "source": [
    "np.shape(contours)"
   ]
  },
  {
   "cell_type": "code",
   "execution_count": 8,
   "metadata": {},
   "outputs": [
    {
     "data": {
      "text/plain": [
       "<matplotlib.collections.PathCollection at 0x1fe28cc38d0>"
      ]
     },
     "execution_count": 8,
     "metadata": {},
     "output_type": "execute_result"
    },
    {
     "data": {
      "image/png": "[encoded data removed]",
      "text/plain": [
       "<Figure size 432x288 with 1 Axes>"
      ]
     },
     "metadata": {
      "needs_background": "light"
     },
     "output_type": "display_data"
    }
   ],
   "source": [
    "plt.scatter(c_area, c_len, c=labels) "
   ]
  },
  {
   "cell_type": "code",
   "execution_count": 9,
   "metadata": {},
   "outputs": [
    {
     "data": {
      "text/plain": [
       "[{'m00': 8235735.0,\n",
       "  'm10': 819355800.0,\n",
       "  'm01': 793446015.0,\n",
       "  'm20': 111897975450.0,\n",
       "  'm11': 78781822110.0,\n",
       "  'm02': 109436597895.0,\n",
       "  'm30': 17177545284420.0,\n",
       "  'm21': 10796309612850.0,\n",
       "  'm12': 10852907121420.0,\n",
       "  'm03': 17186331066915.0,\n",
       "  'mu20': 30382005473.593533,\n",
       "  'mu11': -156438333.92357436,\n",
       "  'mu02': 32994534288.12336,\n",
       "  'mu30': -229376136.2604956,\n",
       "  'mu21': 46978145180.74008,\n",
       "  'mu12': -4564673416.310524,\n",
       "  'mu03': 285496352062.0085,\n",
       "  'nu20': 0.000447931608542463,\n",
       "  'nu11': -2.3064203122797153e-06,\n",
       "  'nu02': 0.00048644895511041703,\n",
       "  'nu30': -1.178398885550576e-09,\n",
       "  'nu21': 2.4134591692375416e-07,\n",
       "  'nu12': -2.3450591479899577e-08,\n",
       "  'nu03': 1.4667113527300585e-06},\n",
       " {'m00': 8612115.0,\n",
       "  'm10': 854053905.0,\n",
       "  'm01': 851425365.0,\n",
       "  'm20': 116485276275.0,\n",
       "  'm11': 84404308185.0,\n",
       "  'm02': 117657937635.0,\n",
       "  'm30': 17858864883495.0,\n",
       "  'm21': 11522272066005.0,\n",
       "  'm12': 11677213177005.0,\n",
       "  'm03': 18311658245715.0,\n",
       "  'mu20': 31789696542.756638,\n",
       "  'mu11': -30602147.04971709,\n",
       "  'mu02': 33482894435.346577,\n",
       "  'mu30': 2051078769.8865306,\n",
       "  'mu21': 12178772639.85921,\n",
       "  'mu12': 15256711842.256765,\n",
       "  'mu03': 59077581410.12622,\n",
       "  'nu20': 0.00042861438379630264,\n",
       "  'nu11': -4.1260288165748354e-07,\n",
       "  'nu02': 0.0004514434463638405,\n",
       "  'nu30': 9.423403515894278e-09,\n",
       "  'nu21': 5.595372084128946e-08,\n",
       "  'nu12': 7.009489548919756e-08,\n",
       "  'nu03': 2.7142394360676463e-07},\n",
       " {'m00': 8378790.0,\n",
       "  'm10': 832854735.0,\n",
       "  'm01': 830811420.0,\n",
       "  'm20': 114010370205.0,\n",
       "  'm11': 82591208970.0,\n",
       "  'm02': 115713504750.0,\n",
       "  'm30': 17527531841685.0,\n",
       "  'm21': 11314367187510.0,\n",
       "  'm12': 11512993602600.0,\n",
       "  'm03': 18116234209620.0,\n",
       "  'mu20': 31224310450.319397,\n",
       "  'mu11': 8255460.11685945,\n",
       "  'mu02': 33333159186.688774,\n",
       "  'mu30': -12555244356.560574,\n",
       "  'mu21': 7857684009.182958,\n",
       "  'mu12': 9392510369.811628,\n",
       "  'mu03': 32090815587.909595,\n",
       "  'nu20': 0.0004447646323496918,\n",
       "  'nu11': 1.1759224241619652e-07,\n",
       "  'nu02': 0.00047480344888031734,\n",
       "  'nu30': -6.178341437524633e-08,\n",
       "  'nu21': 3.866707276911097e-08,\n",
       "  'nu12': 4.621983799930117e-08,\n",
       "  'nu03': 1.5791649296506205e-07},\n",
       " {'m00': 9845805.0,\n",
       "  'm10': 982234500.0,\n",
       "  'm01': 983352930.0,\n",
       "  'm20': 131865059910.0,\n",
       "  'm11': 98076625590.0,\n",
       "  'm02': 132152144010.0,\n",
       "  'm30': 19889642038650.0,\n",
       "  'm21': 13153736401530.0,\n",
       "  'm12': 13170414919800.0,\n",
       "  'm03': 19940967397230.0,\n",
       "  'mu20': 33875650919.038876,\n",
       "  'mu11': -24359908.096395787,\n",
       "  'mu02': 33939454957.191734,\n",
       "  'mu30': -24430733809.162064,\n",
       "  'mu21': -11468347378.374306,\n",
       "  'mu12': -8445145129.99799,\n",
       "  'mu03': -37198224324.60778,\n",
       "  'nu20': 0.0003494501157066059,\n",
       "  'nu11': -2.5128883052999986e-07,\n",
       "  'nu02': 0.000350108297259142,\n",
       "  'nu30': -8.031717718030606e-08,\n",
       "  'nu21': -3.770272704656759e-08,\n",
       "  'nu12': -2.7763808611637923e-08,\n",
       "  'nu03': -1.222908978997535e-07},\n",
       " {'m00': 8879610.0,\n",
       "  'm10': 872916000.0,\n",
       "  'm01': 865970565.0,\n",
       "  'm20': 118984548360.0,\n",
       "  'm11': 84970366110.0,\n",
       "  'm02': 117479466705.0,\n",
       "  'm30': 18319474068900.0,\n",
       "  'm21': 11626691586330.0,\n",
       "  'm12': 11549153964810.0,\n",
       "  'm03': 18063937147785.0,\n",
       "  'mu20': 33171957147.548103,\n",
       "  'mu11': -159449469.46125913,\n",
       "  'mu02': 33026994192.533882,\n",
       "  'mu30': 100635594345.83095,\n",
       "  'mu21': 54252640992.24994,\n",
       "  'mu12': 31356554344.322205,\n",
       "  'mu03': 165113911094.6355,\n",
       "  'nu20': 0.0004207104624790165,\n",
       "  'nu11': -2.0222521010955333e-06,\n",
       "  'nu02': 0.000418871938705002,\n",
       "  'nu30': 4.283185531500627e-07,\n",
       "  'nu21': 2.3090649829637476e-07,\n",
       "  'nu12': 1.3345769035136416e-07,\n",
       "  'nu03': 7.027468955166175e-07},\n",
       " {'m00': 8672805.0,\n",
       "  'm10': 888194835.0,\n",
       "  'm01': 878262585.0,\n",
       "  'm20': 123559747395.0,\n",
       "  'm11': 89733687570.0,\n",
       "  'm02': 121706650665.0,\n",
       "  'm30': 19093791452445.0,\n",
       "  'm21': 12429441944430.0,\n",
       "  'm12': 12344851587990.0,\n",
       "  'm03': 18809608097805.0,\n",
       "  'mu20': 32598395799.907387,\n",
       "  'mu11': -210487557.97168326,\n",
       "  'mu02': 32768277415.41325,\n",
       "  'mu30': -237045918817.30276,\n",
       "  'mu21': -39879713953.33624,\n",
       "  'mu12': -76676604129.2987,\n",
       "  'mu03': -151812305680.46906,\n",
       "  'nu20': 0.00043338818250906596,\n",
       "  'nu11': -2.7983837226241246e-06,\n",
       "  'nu02': 0.0004356467195560331,\n",
       "  'nu30': -1.0701225803129025e-06,\n",
       "  'nu21': -1.8003339863773925e-07,\n",
       "  'nu12': -3.461496653047914e-07,\n",
       "  'nu03': -6.853430638611625e-07},\n",
       " {'m00': 6906675.0,\n",
       "  'm10': 705332040.0,\n",
       "  'm01': 692820720.0,\n",
       "  'm20': 100785505380.0,\n",
       "  'm11': 70306728045.0,\n",
       "  'm02': 99288381000.0,\n",
       "  'm30': 16018963496970.0,\n",
       "  'm21': 10006361258175.0,\n",
       "  'm12': 9989421254235.0,\n",
       "  'm03': 15854762487330.0,\n",
       "  'mu20': 28754711017.942776,\n",
       "  'mu11': -446369761.378435,\n",
       "  'mu02': 29790315713.690975,\n",
       "  'mu30': -146627626964.23532,\n",
       "  'mu21': -12440642039.03073,\n",
       "  'mu12': -60677799231.15643,\n",
       "  'mu03': -81667643757.34819,\n",
       "  'nu20': 0.0006027968395102155,\n",
       "  'nu11': -9.357432987031285e-06,\n",
       "  'nu02': 0.0006245066468941054,\n",
       "  'nu30': -1.169615877186838e-06,\n",
       "  'nu21': -9.923622684555572e-08,\n",
       "  'nu12': -4.840132711881538e-07,\n",
       "  'nu03': -6.51444579501595e-07}]"
      ]
     },
     "execution_count": 9,
     "metadata": {},
     "output_type": "execute_result"
    }
   ],
   "source": [
    "[cv2.moments(img) for img in data]"
   ]
  },
  {
   "cell_type": "code",
   "execution_count": 10,
   "metadata": {},
   "outputs": [],
   "source": [
    "M = [list(cv2.moments(img).values()) for img in data]\n",
    "M=np.array(M)"
   ]
  },
  {
   "cell_type": "code",
   "execution_count": 11,
   "metadata": {},
   "outputs": [
    {
     "data": {
      "text/plain": [
       "<matplotlib.collections.PathCollection at 0x1fe2c654898>"
      ]
     },
     "execution_count": 11,
     "metadata": {},
     "output_type": "execute_result"
    },
    {
     "data": {
      "image/png": "[encoded data removed]",
      "text/plain": [
       "<Figure size 432x288 with 1 Axes>"
      ]
     },
     "metadata": {
      "needs_background": "light"
     },
     "output_type": "display_data"
    }
   ],
   "source": [
    "plt.scatter(M[:,10], M[:,12], c=labels) #momenty centralne mu20 mu02"
   ]
  }
 ],
 "metadata": {
  "kernelspec": {
   "display_name": "Python 3",
   "language": "python",
   "name": "python3"
  },
  "language_info": {
   "codemirror_mode": {
    "name": "ipython",
    "version": 3
   },
   "file_extension": ".py",
   "mimetype": "text/x-python",
   "name": "python",
   "nbconvert_exporter": "python",
   "pygments_lexer": "ipython3",
   "version": "3.7.4"
  }
 },
 "nbformat": 4,
 "nbformat_minor": 2
}
