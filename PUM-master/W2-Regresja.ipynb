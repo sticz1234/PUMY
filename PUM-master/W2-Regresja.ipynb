{
 "cells": [
  {
   "cell_type": "markdown",
   "metadata": {},
   "source": [
    "# Regresja liniowa"
   ]
  },
  {
   "cell_type": "markdown",
   "metadata": {},
   "source": [
    "Regresja to próba stwierdzenia, czy istota pewnego procesu może być wyrażona w postaci funkcyjnej. Informacje o procesie są dostępne w postaci etykietowanych próbek, przy czym etykiety mają charakter ilościowy. Funkcyjna postać relacji jest w regresji zakładana na podstawie posiadanej wiedzy o problemie lub innych przesłanek, a fundamentalną cechą rozważanej funkcji jest jej parametryczność. Celem procesu regresji jest wyznaczenie wartości parametrów funkcji w sposób zapewniający jej najlepsze dopasowanie do dostępnych danych."
   ]
  },
  {
   "cell_type": "markdown",
   "metadata": {},
   "source": [
    "Problem regresji może być sformułowany formalnie jako zadanie znalezienia takiego wektora parametrów $\\boldsymbol{\\theta}$, który zapewnia minimalizację błędu między rzeczywistymi relacjami próbki ($\\mathbf{x}$)-etykiety ($y$), a relacjami przewidywanymi przez założoną funkcję parametryczną $y = f(\\mathbf{x},\\boldsymbol{\\theta})$. Typowym sposobem oceny błędu jest określenie wartości średniej 'odstępstw' indywidualnych wyników, uzyskiwanych w wyniku zastosowania rozważanej funkcji (czyli $y_i' = f(\\mathbf{x}_i,\\boldsymbol{\\theta})$) od wartości rzeczywistych, czyli $y_i$. Ponieważ odstępstwa dodatnie i ujemne powinny być traktowane jednakowo, powszechnie przyjętym sposobem ich oceny jest kwadrat różnicy zestawianych wartości. Takie podejście prowadzi do sformułowania następującego kryteium doboru wartości parametrów regresji, nazywanego kryterium minimizalizacji błędu średniokwadratowego:"
   ]
  },
  {
   "cell_type": "markdown",
   "metadata": {},
   "source": [
    "$ J(\\boldsymbol{\\theta}) = \\frac{1}{n} \\sum_{i=1}^n (y_i - y_i')^2  =  \\frac{1}{n} \\sum_{i=1}^n ( y_i - f(\\mathbf{x}_i,\\boldsymbol{\\theta}))^2$"
   ]
  },
  {
   "cell_type": "markdown",
   "metadata": {},
   "source": [
    "gdzie n jest liczbą posiadanych próbek. Cel regresji, to znalezienie takiego wektora parametrów $\\theta^*$, które minimalizuje wartość przedstawionego błędu:"
   ]
  },
  {
   "cell_type": "markdown",
   "metadata": {},
   "source": [
    "$  \\boldsymbol{\\theta}^* =  arg min_\\boldsymbol{\\theta}  J(\\boldsymbol{\\theta}) $"
   ]
  },
  {
   "cell_type": "markdown",
   "metadata": {},
   "source": [
    "Warunkiem koniecznym istnienia minimum jest zerowanie się pochodnej funkcji kryterialnej ( czyli $ J(.)$)), względem jej argumentu (czyli $\\boldsymbol{\\theta}$). Dlatego też, rozwiązanie problemu regresji to znalezienie rozwiązania problemu:"
   ]
  },
  {
   "cell_type": "markdown",
   "metadata": {},
   "source": [
    "Regresja liniowa to próba określenia liniowej relacji między 'predyktorami' $\\mathbf{x}$, a wynikami obserwacji $y$:\n",
    "\\begin{equation}\n",
    "y = f(\\mathbf{x}) = \\alpha_0 + \\sum_i \\alpha_i x_i\n",
    "\\label{eq:LinReg}\n",
    "\\end{equation}"
   ]
  },
  {
   "cell_type": "markdown",
   "metadata": {},
   "source": [
    "W najprostszym przypadku, gdy predyktor jest skalarem ($\\mathbf{x}=x$), powyższa zależność ma postać:\n",
    "\\begin{equation}\n",
    "y = \\alpha_0 + \\alpha x\n",
    "\\end{equation}"
   ]
  },
  {
   "cell_type": "markdown",
   "metadata": {},
   "source": [
    "'Liniowość' regresji dotyczy wektora współczynników  $\\boldsymbol{\\alpha}$ - argument może nie być liniowy. Przykładowo, regresja liniowa to na przykład powiązanie skalarnych predyktorów i obserwacji za pomocą funkcji:\n",
    "\\begin{equation}\n",
    "y = \\alpha_0 + \\alpha_1 x + \\alpha_2 x^2 + \\alpha_3 x^3\n",
    "\\end{equation}"
   ]
  },
  {
   "cell_type": "markdown",
   "metadata": {},
   "source": [
    "W takim przypadku, $\\mathbf{x}_i = [x_i, x_i^2, x_i^3]$, zaś $\\boldsymbol{\\alpha} = [\\alpha_0, \\alpha_1, \\alpha_2, \\alpha_3]$. Relacja między predyktorami a obserwacją w przypadku wielowymiarowej zmiennej, ma przykładową postać:\n",
    "\\begin{equation}\n",
    "y = \\alpha_0 + \\alpha_1 x_1 + \\alpha_2 x_2 + \\alpha_3 x_3\n",
    "\\end{equation}\n",
    "gdzie $x_1, x_2, x_3$ to kolejne komponenty wektora $\\mathbf{x}$. \n"
   ]
  },
  {
   "cell_type": "markdown",
   "metadata": {},
   "source": [
    "Można zauważyć, że jeżeli rozszerzymy wektor $\\mathbf{x}$ dodając na jego 'zerową' pozycję wartość stałą: $\\mathbf{x} = [1, x_1, x_2, ...]$, równą '1', wtedy wyznaczenie $y$ staje się wynikiem iloczynu skalarnego tak rozszerzonego wektora i wektora współczynników $\\boldsymbol{\\alpha}$: $y = \\mathbf{x}^T \\boldsymbol{\\alpha} = \\boldsymbol{\\alpha}^T \\mathbf{x}$. Ponieważ ten zabieg zasadniczo upraszcza dalsze analizy, w dalszej części rozważane będą wyłącznie odpowiednio rozszerzane wektory próbek."
   ]
  },
  {
   "cell_type": "markdown",
   "metadata": {},
   "source": [
    "Celem regresji jest określenie współczynników, a podstawą do ich wyznaczenia jest zbiór posiadanych, przykładowych par $\\{\\mathbf{x}_i, y_i  \\}$. \n",
    "\n",
    "Współczynniki te powinny być zostać tak określone, by relacja była jak najdokładniej spełniona dla wszystkich przykładów:\n",
    "\n",
    "\\begin{equation}\n",
    "\\mathbf{Y} = \\left[ \\begin{array}{c}\n",
    "y_1 \\\\ \n",
    "y_2 \\\\ \n",
    "\\vdots \\\\ \n",
    "y_n\n",
    "\\end{array}  \\right]\n",
    "= \\left[ \\begin{array}{cccc}\n",
    "1 & x_1^1 & \\cdots & x_1^m \\\\ \n",
    "1 & x_2^1 & \\cdots & x_2^m \\\\ \n",
    "\\vdots & \\vdots & \\cdots & \\vdots \\\\ \n",
    "1 & x_n^1 & \\cdots & x_n^m\n",
    "\\end{array}  \\right] \n",
    "\\left[ \\begin{array}{c}\n",
    "\\alpha_0 \\\\ \n",
    "\\alpha_1 \\\\ \n",
    "\\vdots \\\\ \n",
    "\\alpha_m\n",
    "\\end{array} \n",
    " \\right] \n",
    "=\\mathbf{X}^T \\boldsymbol{\\alpha}\n",
    "\\end{equation}\n",
    "gdzie wprowadzona macierz $\\mathbf{X}$ to macierz, której kolumnami są próbki, a więc: $\\mathbf{X} = [\\mathbf{x}_1, \\mathbf{x}_2, \\mathbf{x}_n]$.\n"
   ]
  },
  {
   "cell_type": "markdown",
   "metadata": {},
   "source": [
    "Kryterium, pozwalające na osiągnięcie tego celu, może zostać określone jako warunek minimalizacji zakumukowanego błędu predykcji dla wszystkich próbek:\n",
    "\\begin{equation}\n",
    " J(\\boldsymbol{\\alpha}) = \\sum_{i=1}^n (y_i - f(\\mathbf{x}_i) )^2 = \\sum_{i=1}^n (y_i - \\alpha_0 - \\sum_{j=1}^m \\alpha_{i,j} x_i )^2\n",
    "\\end{equation}\n",
    "\n",
    "gdzie jako błąd przyjęto wartość kwadratu różnicy. Wyrażenie to może być przedstawione w postaci macierzowej, jako:\n",
    "\\begin{equation}\n",
    " J(\\boldsymbol{\\alpha}) = (\\mathbf{Y} - \\mathbf{X}^T \\boldsymbol{\\alpha})^T (\\mathbf{Y} - \\mathbf{X}^T\\boldsymbol{\\alpha}) = \\mathbf{Y}^T \\mathbf{Y} - \\mathbf{Y}^T \\mathbf{X}^T \\boldsymbol{\\alpha} - \\boldsymbol{\\alpha}^T \\mathbf{X}  \\mathbf{Y} + \\boldsymbol{\\alpha}^T \\mathbf{X} \\mathbf{X}^T\\boldsymbol{\\alpha}\n",
    "\\end{equation}\n"
   ]
  },
  {
   "cell_type": "markdown",
   "metadata": {},
   "source": [
    "Warunkiem koniecznym wystąpienia maksimum jest zerowanie się pochodnej, a więc:\n",
    "\\begin{equation}\n",
    "\\frac{\\partial J(\\boldsymbol{\\alpha})}{\\partial \\boldsymbol{\\alpha}} = 0\n",
    "\\end{equation}"
   ]
  },
  {
   "cell_type": "markdown",
   "metadata": {},
   "source": [
    "Pierwszy składnik sumy w wyrażeniu $J(\\boldsymbol{\\alpha})$ nie zależy od niewiadomej, więc jego pochodna będzie równa zeru. Drugi i trzeci składnik są skalarami - ponieważ jeden jest transpozycją drugiego, są one identyczne i mogą zostać zastąpione albo wyrażeniem: $2 \\mathbf{Y}^T \\mathbf{X}^T \\boldsymbol{\\alpha}$ albo wyrażeniem: $2  \\boldsymbol{\\alpha}^T \\mathbf{X} \\mathbf{Y}$. Obliczenie pochodnej dotyczy więc dwóch składników: liniowego i kwadratowego względem niewiadomej. "
   ]
  },
  {
   "cell_type": "markdown",
   "metadata": {},
   "source": [
    "W ogólnym przypadku, pochodna wektora $\\mathbf{v}(\\boldsymbol{\\alpha})$ względem wektora to pochodna wszystkich komponentów wektora względem wszystkich komponentów zmiennej, więc jest macierzą, nazywaną *Jakobianem* (lub *macierzą Jacobiego*):"
   ]
  },
  {
   "cell_type": "markdown",
   "metadata": {},
   "source": [
    "\\begin{equation}\n",
    "\\frac{\\partial \\mathbf{v}(\\boldsymbol{\\alpha})}{\\partial \\boldsymbol{\\alpha}} =\n",
    "\\left[ \\begin{array}{ccc}\n",
    "\\frac{\\partial v_0(...)}{\\partial \\alpha_0} & \\frac{\\partial v_0(...)}{\\partial \\alpha_1} & \\cdots \\\\ \n",
    "\\frac{\\partial v_1(...)}{\\partial \\alpha_0} & \\frac{\\partial v_1(...)}{\\partial \\alpha_1} & \\cdots \\\\ \n",
    "\\vdots & \\vdots & \\cdots \n",
    "\\end{array}  \\right] \n",
    " \\end{equation}"
   ]
  },
  {
   "cell_type": "markdown",
   "metadata": {},
   "source": [
    "W rozważanym przypadku, funkcja kryterialna jest skalarna, mamy więc wektor jednoelementowy, więc jego pochodna będzie wektorem wierszowym:"
   ]
  },
  {
   "cell_type": "markdown",
   "metadata": {},
   "source": [
    "\\begin{equation}\n",
    "\\frac{\\partial J(\\boldsymbol{\\alpha})}{\\partial \\boldsymbol{\\alpha}} =\n",
    "\\left[ \\begin{array}{ccc}\n",
    "\\frac{\\partial J_0(...)}{\\partial \\alpha_0} & \\frac{\\partial J_0(...)}{\\partial \\alpha_1} & \\cdots \n",
    "\\end{array}  \\right] \n",
    " \\end{equation}"
   ]
  },
  {
   "cell_type": "markdown",
   "metadata": {},
   "source": [
    "Aby obliczyć wymaganą pochodną, należy obliczyć pochodne macierzowej funkcji liniowej i macierzowej formy kwadratowej. Rozważmy najpierw pochodną składnika liniowego - $\\mathbf{Y}^T \\mathbf{X}^T \\boldsymbol{\\alpha}$ oraz $\\boldsymbol{\\alpha}^T \\mathbf{X} \\mathbf{Y}$, które, oznaczając iloczyn $\\mathbf{X} \\mathbf{Y}$, który jest wektorem, przez $ \\mathbf{p}$ można zapisać w prostszej formie: $\\mathbf{p}^T \\boldsymbol{\\alpha}$ lub $\\boldsymbol{\\alpha}^T \\mathbf{p}$. Pochodna tego składnika to:"
   ]
  },
  {
   "cell_type": "markdown",
   "metadata": {},
   "source": [
    "\\begin{equation}\n",
    "\\frac{\\partial( \\mathbf{p}^T \\boldsymbol{\\alpha})}{\\partial \\boldsymbol{\\alpha}} =\n",
    "\\frac{\\partial }{\\partial \\boldsymbol{\\alpha}} [p_0 \\alpha_0 + p_1 \\alpha_1 + \\cdots  ] =\n",
    "\\left[ \\begin{array}{ccc}\n",
    "p_0 & p_1 & \\cdots \n",
    "\\end{array}  \\right] = \\mathbf{p}^T\n",
    "\\end{equation}\n",
    "\\begin{equation}\n",
    "\\frac{\\partial( \\boldsymbol{\\alpha}^T \\mathbf{p})}{\\partial \\boldsymbol{\\alpha}} =\n",
    "\\frac{\\partial }{\\partial \\boldsymbol{\\alpha}} [\\alpha_0 p_0 + \\alpha_1 p_1 + \\cdots  ] =\n",
    "\\left[ \\begin{array}{ccc}\n",
    "p_0 & p_1 & \\cdots \n",
    "\\end{array}  \\right] = \\mathbf{p}^T\n",
    " \\end{equation}"
   ]
  },
  {
   "cell_type": "markdown",
   "metadata": {},
   "source": [
    "Ponieważ $\\mathbf{p} = \\mathbf{X} \\mathbf{Y}$, więc pochodna składnika liniowego fukcji celu to $\\mathbf{Y}^T \\mathbf{X}^T$. Składnik kwadratowy można przedstawić w prostszej postaci:  $\\boldsymbol{\\alpha}^T \\mathbf{X} \\mathbf{X}^T\\boldsymbol{\\alpha} = \\boldsymbol{\\alpha}^T \\mathbf{M} \\boldsymbol{\\alpha}$, gdzie $\\mathbf{M} = \\mathbf{X} \\mathbf{X}^T$, a wiersz '$i$' macierzy $\\mathbf{M}$ jest oznaczony jako $\\mathbf{M}_{i \\cdot}$, zaś kolumna '$j$' jako $\\mathbf{M}_{\\cdot, j}$. Pochodna składnika kwadratowego jest następująca:"
   ]
  },
  {
   "cell_type": "markdown",
   "metadata": {},
   "source": [
    "\\begin{equation}\n",
    "\\frac{\\partial(\\boldsymbol{\\alpha}^T \\mathbf{M} \\boldsymbol{\\alpha})}{\\partial \\boldsymbol{\\alpha}} =\n",
    "\\frac{\\partial }{\\partial \\boldsymbol{\\alpha}} [ \\alpha_0 \\mathbf{M}_{0 \\cdot}\\boldsymbol{\\alpha} + \\alpha_1 \\mathbf{M}_{1 \\cdot}\\boldsymbol{\\alpha}  + \\alpha_2 \\mathbf{M}_{2 \\cdot}\\boldsymbol{\\alpha}  + \\ldots  ] \n",
    "= [ \\mathbf{M}_{0\\cdot}\\boldsymbol{\\alpha} + \\alpha_0 \\mathbf{M}_{0,0} + \\alpha_1 \\mathbf{M}_{1,0} + \\alpha_2 \\mathbf{M}_{2,0} + \\ldots  ; \\hspace{0.2cm}\n",
    "\\mathbf{M}_{1\\cdot}\\boldsymbol{\\alpha} + \\alpha_1 \\mathbf{M}_{1,0} + \\alpha_1 \\mathbf{M}_{1,1} + \\alpha_2 \\mathbf{M}_{1,2} + \\ldots ] = \n",
    "[ \\mathbf{M}_{0\\cdot}\\boldsymbol{\\alpha} + \\boldsymbol{\\alpha}^T \\mathbf{M}_{\\cdot 0}; \\hspace{0.2cm}  \\mathbf{M}_{1\\cdot}\\boldsymbol{\\alpha} + \\boldsymbol{\\alpha}^T \\mathbf{M}_{\\cdot 1} ; \\hspace{0.2cm} \\ldots] = \n",
    "[2 \\boldsymbol{\\alpha}^T \\mathbf{M}_{\\cdot 0};\\hspace{0.2cm}  2 \\boldsymbol{\\alpha}^T  \\mathbf{M}_{\\cdot 1}; \\hspace{0.2cm} \\ldots ] = 2 \\boldsymbol{\\alpha}^T \\mathbf{M}^T \n",
    "\\end{equation}"
   ]
  },
  {
   "cell_type": "markdown",
   "metadata": {},
   "source": [
    "gdzie w ostatnim kroku dokonano przekształcenia $ \\boldsymbol{\\alpha}^T \\mathbf{M}_{\\cdot i} = \\mathbf{M}_{i \\cdot} \\boldsymbol{\\alpha} $, które jest prawdziwe gdy macierz $\\mathbf{M}$ jest symetryczna (w rozważanym przypadku macierz jest symetryczna, bo $\\mathbf{M} = \\mathbf{X} \\mathbf{X}^T$). Ostatecznie, poszukiwana pochodna funkcji kryterialnej względem wektora parametrów $\\boldsymbol{\\alpha}$ ma postać:"
   ]
  },
  {
   "cell_type": "markdown",
   "metadata": {},
   "source": [
    "\\begin{equation}\n",
    "\\frac{\\partial J(\\boldsymbol{\\alpha})}{\\partial \\boldsymbol{\\alpha}} = 2 \\boldsymbol{\\alpha}^T \\mathbf{X}^T \\mathbf{X} - 2 \\mathbf{Y}^T \\mathbf{X}^T\n",
    "\\end{equation}"
   ]
  },
  {
   "cell_type": "markdown",
   "metadata": {},
   "source": [
    "Ponieważ pochodna ma być równa zeru, prowadzi to do warunku:"
   ]
  },
  {
   "cell_type": "markdown",
   "metadata": {},
   "source": [
    "\\begin{equation}\n",
    "\\boldsymbol{\\alpha}^T \\mathbf{X}^T \\mathbf{X} =  \\mathbf{Y}^T \\mathbf{X}^T \\equiv \n",
    " \\mathbf{X} \\mathbf{X}^T\\boldsymbol{\\alpha} =  \\mathbf{X} \\mathbf{Y} \\rightarrow \n",
    "\\boldsymbol{\\alpha} = \\left( \\mathbf{X} \\mathbf{X}^T \\right)^{-1} \\mathbf{X} \\mathbf{Y}\n",
    "\\end{equation}"
   ]
  },
  {
   "cell_type": "markdown",
   "metadata": {},
   "source": [
    "Otrzymane wyrażenie to wzór określający optymalne wartości wektora parametrów, a więc wartości zapewniające minimalizację błędu MSE między rzeczywistymi obserwacjami, a ich estymatami dokonywanymi z wykorzystaniem regresji liniowej. Należy pamiętać, że konkretna postać wzoru zależy od sposobu zdefiniowania macierzy $\\mathbf{X}$. W rozważanym przypadku, kolumny tej macierzy odpowiadały analizowanym próbkom procesu. Gdyby wektory odpowiadające próbkom były kolumnami macierzy $\\mathbf{X}$, wtedy wyrażenie miałoby postać: $\\boldsymbol{\\alpha} = \\left( \\mathbf{X}^T \\mathbf{X} \\right)^{-1} \\mathbf{X}^T \\mathbf{Y}$."
   ]
  },
  {
   "cell_type": "markdown",
   "metadata": {},
   "source": [
    "#### Przykład\n",
    "\n",
    "Załóżmy, że chcemy przewidzieć liczbę ludności świata w roku 2025 i w roku 2050, i załóżmy, że dla tego celu odwołujemy się do istniejących danych demograficznych o zmianach liczby ludności na przestrzeni ostatnich kilkudziesięciu lat. Dane te są zapisane w pliku Pop.csv (w formacie 'comma separated values'). Dane w pliku zawierają informacje zbierane w latach od 1960 do 2017, przy czym oprócz informacji o populacji świata, znajdują się tam również dane dotyczące wybranych krajów (Polska, Niemcy, Nigeria i USA). "
   ]
  },
  {
   "cell_type": "code",
   "execution_count": 1,
   "metadata": {},
   "outputs": [
    {
     "name": "stdout",
     "output_type": "stream",
     "text": [
      "10143348452.112549\n"
     ]
    },
    {
     "data": {
      "image/png": "[encoded data removed]",
      "text/plain": [
       "<matplotlib.figure.Figure at 0xac0359ec>"
      ]
     },
     "metadata": {},
     "output_type": "display_data"
    }
   ],
   "source": [
    "import csv\n",
    "import numpy as np\n",
    "import matplotlib.pyplot as plt\n",
    "%matplotlib inline\n",
    "\n",
    "plt.close('all')\n",
    "\n",
    "Etykiety = []\n",
    "Dane = []\n",
    "\n",
    "# wczytanie danych z pliku\n",
    "with open('./Pop.csv', mode='r') as plik_csv :\n",
    "    csv_Rdr = csv.reader(plik_csv, delimiter=',')\n",
    "    # wczytanie pierwszego wiersza    \n",
    "    Etykiety = next(csv_Rdr)\n",
    "    for wiersz in csv_Rdr:\n",
    "        Dane.append(wiersz)\n",
    "        \n",
    "# konwersja danych na int     \n",
    "X = np.array(Etykiety)[1:].astype(np.int)\n",
    "Y = np.array(Dane)[:,1:].astype(np.int64)\n",
    "# kod regionu, dla którego wyznaczana jest regresja (numer wiersza) - 0 to WORLD\n",
    "kod = 0\n",
    "# regresja liniowa:\n",
    "# model - wielomian I-go stopnia, dane skalarne y = W' * x, W = [w0, w1], x = [1, x]\n",
    "\n",
    "from sklearn import linear_model\n",
    "\n",
    "LinReg = linear_model.LinearRegression()\n",
    "LinReg.fit(X.reshape(-1,1), Y[kod,:].T)\n",
    "Y_Pred = LinReg.predict(X.reshape(-1,1))\n",
    "#print(LinReg.coef_)\n",
    "plt.figure()\n",
    "plt.scatter(X,Y[kod,:])\n",
    "plt.plot(X,Y_Pred, color='red')\n",
    "\n",
    "# predykcja liczby ludności świata to wstawienie do znalezionego równania liniowego wartości argumentu,\n",
    "# dla którego chcemy dokonać oszacowania. Ponieważ interesuje nas rok 2050, a przyjęta reprezentacja \n",
    "# argumentu wymaga umieszczenia stałego składnika '1' na pierwszej pozycji, argument to [1, 2050]\n",
    "print(np.dot(np.array([1,2050]),np.insert(LinReg.coef_,0,LinReg.intercept_).T))\n"
   ]
  },
  {
   "cell_type": "markdown",
   "metadata": {},
   "source": [
    "#### Przykład\n",
    "\n",
    "Załóżmy, że chcemy dokonać predykcji liczby ludności w roku 2050 dla wszystkich wymienionych krajów. Wykresy przedstawiające dynamikę zmian ludności w rozważanym przedziale czasu pokazują, że zależności nie są już tak proste:"
   ]
  },
  {
   "cell_type": "code",
   "execution_count": 2,
   "metadata": {},
   "outputs": [
    {
     "data": {
      "image/png": "[encoded data removed]",
      "text/plain": [
       "<matplotlib.figure.Figure at 0x2277205e048>"
      ]
     },
     "metadata": {},
     "output_type": "display_data"
    }
   ],
   "source": [
    "offset =1 # dane demograficzne wybranych państw zaczynają się w 1 wierszu macierzy Y\n",
    "fig = plt.figure()\n",
    "for i in range(Y.shape[0]-1) :\n",
    "    ax = fig.add_subplot(2,2,i+1)\n",
    "    plt.scatter(X[1:], Y[i+offset,1:])\n",
    "    ax.set_title(Dane[i+1][0])\n",
    "    LinReg.fit(X.reshape(-1,1), Y[i+1,:].T)\n",
    "    Y_Pred = LinReg.predict(X.reshape(-1,1))\n",
    "    plt.plot(X,Y_Pred, color='red')\n",
    "plt.subplots_adjust(hspace=0.5) "
   ]
  },
  {
   "cell_type": "markdown",
   "metadata": {},
   "source": [
    "Jak widać, jedynie w odniesieniu do ostatniego wykresu, regresja z wykorzystaniem linii prostej jest uzasadniona. Sumaryczny błąd wynikający z niedopasowania krzywej aproksymującej dany zbiór punktów, a punktami tego zbioru, nazywa się **<font color=blue> uchybem </font>**  (ang. <font color=red> bias </font>) i jest jednym z podstawowych wskaźników oceniających przyjęty sposób modelowania danych.\n",
    "Aby zredukować uchyb, pojawiający się w trzech pierwszych przypadkach, konieczne jest wykorzystanie w regresji wielomianów stopnia wyższego. Problem wyboru odpowiedniego rzędu wielomianu, jest kolejnym istotnym zagadnieniem regresji. Ogólna reguła uczenia maszynowego to adaptacja zasady wyboru najprostszej hipotezy, pozwalającej na poprawne wyjaśnienie danych, nazywanej **<font color=blue>  brzytwą Occama </font>** (<font color=red>Occam's razor</font>). Jeżeli przyjęty model staje się zbyt skomplikowany (rząd wielomianu jest zbyt wysoki), mamy do czynienia z nadmiernym dopasowaniem modelu do danych (uczenie się danych 'na pamięć, a nie uczenie się zasady, zgodnie z którą dane są generowane). Konsekwencją jest powstawanie ogromnych błędów dla argumentów spoza znanego zakresu wartości, wynikających z występowania w wielomianach składników o wysokich potęgach. Błąd wynikający z przyjęcia zbyt skomplikowanego modelu to nadmierna wariancja modelu względem rzeczywisych danych. W efekcie, dobór modelu to kompromis między dwoma różnymi rodzajami błędów (<font color=red>bias-variance trade-off</font>): niedostatecznym dopasowaniem do danych (<font color=red>underfitting</font>) a nadmiernym dopasowaniem do danych (<font color=red>overfitting</font>). Poszukiwanie odpowiedniego kompromisu między błędami **<font color=blue>niedopasowania </font>** i **<font color=blue>nadmiernego dopasowania</font>**  jest fundamentalnym celem metod uczenia maszynowego, bo celem procedury jest zapewnienie najlepszej możliwej **<font color=blue>  generalizacji </font>** dostarczonej do algorytmu wiedzy: algorytm jest nauczony poprawnie wtedy, gdy potrafi właściwie uogólnić posiadaną wiedzę na przypadku, których wcześniej nigdy nie widział."
   ]
  },
  {
   "cell_type": "markdown",
   "metadata": {},
   "source": [
    "#### Regresja liniowa z wykorzystaniem wielomianów wyższych stopni w sklearn"
   ]
  },
  {
   "cell_type": "markdown",
   "metadata": {},
   "source": [
    "Jak wcześniej wspomniano, regresja liniowa nie oznacza, że funkcja dopasowywana do danych jest liniowa - może to być wielomian wyższych stopni. Regresja dla zbioru danych, w których argumenty $\\mathbf{x}$ są skalarne, za pomocą funkcji 3-go rzędu, ma postać:\n",
    "\\begin{equation}\n",
    "\\hat{y}_i = \\alpha_0 + \\alpha_1 x_i + \\alpha_2 x^2_i + \\alpha_3 x^3_i\n",
    "\\end{equation}\n",
    "gdzie $x_i$ jest wartością i-tej próbki, $\\alpha_0, \\alpha_1, \\alpha_2, \\alpha_3$ są współczynnikami wielomianu, a $\\hat{y}_i$ jest przewidzianą przez model wartością etykiety dla próbki."
   ]
  },
  {
   "cell_type": "markdown",
   "metadata": {},
   "source": [
    "Estymata wartości etykiety odpowiadającej danej próbce $\\mathbf{x}$, jest więc iloczynem skalarnym dwóch czteroelementowych wektorów: $\\boldsymbol{\\alpha} = [\\alpha_0 ... \\alpha_3]$ i $\\mathbf{x}' = [1, x_1 =x, x_2=x^2, x_3= x^3]$. Oznacza to, że aby dokonać regresji wykorzystującej wielomiany, konieczne jest odpowiednie powiększanie rozmiaru wektora oryginalnych danych z $\\mathbf{x}$ do $\\mathbf{x}'$."
   ]
  },
  {
   "cell_type": "markdown",
   "metadata": {},
   "source": [
    "'Ekspansja' wektora danych, dostosowująca go do regresji wielomianem stopnia $m$, w przypadku, gdy dane są skalarne ($x \\in \\mathcal{R}^1$, jak to miało miejsce w przykładzie) jest prosta - nowa próbka $\\mathbf{x}'$ ma $m+1$ elementów ('+1', bo pierwszym elementem jest wartość '1'), gdzie kolejne elementy wektora to kolejne potęgi wartości oryginalnej $x$. Aby dokonać regresji, należy zamienić wszystkie próbki $\\mathbf{x}$_i na $\\mathbf{x}'$_i, zbudować macierz $\\mathbf{X}$ i wyznaczyć parametry regresji $\\mathbf{\\alpha}$ korzystając z wyprowadzonego wcześniej wzoru."
   ]
  },
  {
   "cell_type": "markdown",
   "metadata": {},
   "source": [
    "Alternatywnie, można skorzystać z narzędzi oferowanych przez Pythona. Dla realizacji zadań regresji wielomianowej, dla zmiennych skalarnych, można skorzystać z metody $\\tt{numpy.polyfit(.)}$. Przykładowa aproksymacja dynamiki zmian ludności Nigerii z wykorzystaniem wielomianu drugiego stopnia to wykonanie procedury:"
   ]
  },
  {
   "cell_type": "code",
   "execution_count": 5,
   "metadata": {},
   "outputs": [
    {
     "name": "stdout",
     "output_type": "stream",
     "text": [
      "[ 3.22454867e+04 -1.25757163e+08  1.22656106e+11]\n"
     ]
    }
   ],
   "source": [
    "z = np.polyfit(X,Y[3,:],2)\n",
    "print(z)"
   ]
  },
  {
   "cell_type": "markdown",
   "metadata": {},
   "source": [
    "Niestety, metoda $\\tt{numpy.polyfit(.)}$ pozwala jedynie na regresję dla zmiennych skalarnych. Jeżeli chcemy dokonać regresji dla zmiennych wielowymiarowych, konieczne jest przeprowadzenie dwuetapowej procedury, której pierwsza faza to konwersja zmiennych $\\mathbf{x}$ na $\\mathbf{x}'$, a następnie wywołanie procedury regresji liniowej na tak zmodyfikowanym zbiorze danych. Konwersja jest dokonywana z wykorzystaniem narzędzi z pakietu $\\tt{sklearn}$, zawartych w klasie $\\tt{preprocessing}$ - z metody $\\tt{PolynomialFeatures}$. Metoda ta automatycznie ekspanduje oryginalne dane, tak by dostosować je do potrzeb regresji wielomianowej. Przykładowa procedura ekspansji danych trójwymiarowych dla potrzeb aproksymacji wielomianem trzeciego stopnia jest następująca:"
   ]
  },
  {
   "cell_type": "code",
   "execution_count": 6,
   "metadata": {},
   "outputs": [
    {
     "name": "stdout",
     "output_type": "stream",
     "text": [
      "[[ 1.     1.     2.     3.     1.     2.     3.     4.     6.     9.\n",
      "   1.     2.     3.     4.     6.     9.     8.    12.    18.    27.   ]\n",
      " [ 1.    -1.     0.5    0.     1.    -0.5   -0.     0.25   0.     0.\n",
      "  -1.     0.5    0.    -0.25  -0.    -0.     0.125  0.     0.     0.   ]]\n"
     ]
    }
   ],
   "source": [
    "from sklearn.preprocessing import PolynomialFeatures\n",
    "\n",
    "# dane - dwie próbki 3D\n",
    "x = np.array([[1, 2, 3],\n",
    "              [-1, 0.5, 0]])\n",
    "\n",
    "poly = PolynomialFeatures(3)\n",
    "xprim = poly.fit_transform(x)\n",
    "print(xprim)"
   ]
  },
  {
   "cell_type": "markdown",
   "metadata": {},
   "source": [
    "Jak widać, liczba elementów ekspandowanego wektora szybko rośnie, ze wzrostem wymiaru danych oryginalnych i stopniem wielomianu, co oznacza szybki wzrost liczby parametrów, które należy estymować. Zjawisko to jest niekorzystne z punktu widzenia uczenia maszynowego, bo zwiększa wymaganą dla poprawnej estymacji liczbę przykładów.  "
   ]
  }
 ],
 "metadata": {
  "kernelspec": {
   "display_name": "Python 3",
   "language": "python",
   "name": "python3"
  },
  "language_info": {
   "codemirror_mode": {
    "name": "ipython",
    "version": 3
   },
   "file_extension": ".py",
   "mimetype": "text/x-python",
   "name": "python",
   "nbconvert_exporter": "python",
   "pygments_lexer": "ipython3",
   "version": "3.6.7"
  }
 },
 "nbformat": 4,
 "nbformat_minor": 2
}
