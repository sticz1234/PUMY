{
 "cells": [
  {
   "cell_type": "markdown",
   "metadata": {},
   "source": [
    "# Klasyfikacja przez podział przestrzeni cech"
   ]
  },
  {
   "cell_type": "markdown",
   "metadata": {},
   "source": [
    "Przedstawione wcześniej metody klasyfikacji danych opierały się na ocenie podobieństwa nieznanej próbki do modeli klas, przy czym miarą podobieństwa była odpowiednio zdefiniowana odległość do klasy lub prawdopodobieństwo przynależności do modelu klasy. "
   ]
  },
  {
   "cell_type": "markdown",
   "metadata": {},
   "source": [
    "Geometryczna interpretacja zadania klasyfikacji - umieszczenie próbek i modeli klas w w wielowymiarowych przestrzeniach cech, pozwala na sformułowanie odmiennego pomysłu na jego realizację. Podstawą dla podejmowania decyzji o przynależności próbki do klasy może być podział przestrzeni cech na regiony, przypisane określonym klasom i sprawdzanie, do którego z nich należy badana próbka. Regiony te, nazywane są **<font color=blue> regionami decyzyjnymi </font>**(ang. <font color=red>decision regions</font>), a powierzchnie rozgraniczające te regiony nazywane są **<font color=blue> powierzchniami decyzyjnymi </font>** (ang. <font color=red>decision boundary</font>). Alternatywnie, podstawą decyzji może być określenie, po której stronie powierzchni decyzyjnej znajduje się badana próbka."
   ]
  },
  {
   "cell_type": "markdown",
   "metadata": {},
   "source": [
    "Celem uczenia algorytmów klasyfikacji, wykorzystujących jako podstawę podejmowania decyzji regiony lub powierzchnie decyzyjne, jest estymacja parametrów opisujących te regiony/powierzchnie, która musi być dokonana na podstawie wiedzy zawartej w przykładach."
   ]
  },
  {
   "cell_type": "markdown",
   "metadata": {},
   "source": [
    "## Liniowe funkcje dyskryminacji"
   ]
  },
  {
   "cell_type": "markdown",
   "metadata": {},
   "source": [
    "Najprostszym rodzajem powierzchni decyzyjnej dzielącej przestrzeń cech jest hiperpłaszczyzna (płaszczyzna w przestrzeni 3D, prosta w 2D, próg w 1D). Jeżeli próbki należące do dwóch różnych klas, reprezentowane jako punkty w przestrzeni cech, można oddzielić od siebie za pomocą hiperpłaszczyzny, to istotą klasyfikacji byłoby stwierdzenie, po której stronie takiej hiperpłaszczyzny leży nieznana próbka. Aby to stwierdzić, wystarczy podstawić współrzędne próbki do równania hiperpłaszczyzny: tylko wtedy, gdy należy ona do hiperpłaszczyzny, wynik będzie zerem; w przeciwnym razie, wynik będzie albo dodatni (dla próbek położonych po jej 'dodatniej' stronie), albo ujemny (w przeciwnym razie). Rozważmy przypadek dwóch klas możliwych do rozdzielenia za pomocą linii prostej  (taki przypadek nazywa się **<font color=blue>problemem liniowo separowalnym</font>**)."
   ]
  },
  {
   "cell_type": "code",
   "execution_count": 1,
   "metadata": {},
   "outputs": [
    {
     "name": "stdout",
     "output_type": "stream",
     "text": [
      "-6.4089151680904415\n",
      "4.724717289511953\n"
     ]
    },
    {
     "data": {
      "image/png": "[encoded data removed]",
      "text/plain": [
       "<matplotlib.figure.Figure at 0xaf63b34c>"
      ]
     },
     "metadata": {},
     "output_type": "display_data"
    }
   ],
   "source": [
    "import numpy as np\n",
    "import matplotlib.pyplot as plt\n",
    "%matplotlib inline\n",
    "\n",
    "n=50 # liczba próbek w klasie\n",
    "mu1 = np.array([-3,-3])\n",
    "mu2 = np.array([2,2])\n",
    "C1 = np.array([[2,-1],[-1,1]])\n",
    "C2 = np.array([[2,-1],[-1,1]])\n",
    "# generacja próbek zgodnie z dwoma rozkładami Gaussa\n",
    "X1 = np.random.multivariate_normal(mu1,C1,n) \n",
    "X2 = np.random.multivariate_normal(mu2,C2,n)\n",
    "plt.scatter(X1[:,0], X1[:,1]) # w pythonie domyślnie próbki zapisuje się w wierszach macierzy :(\n",
    "plt.scatter(X2[:,0], X2[:,1]) # więc X[:,0] to wsp. 'x-owe' wszystkich próbek\n",
    "x = np.linspace(np.int(np.min(X1[:,0])), np.int(np.max(X2[:,1])),100)\n",
    "plt.plot(x,-x, color='green') # rysowana jest linia o równaniu y = -x\n",
    "\n",
    "# sprawdzenie wartości wyrażenia: y+x dla wybranej próbki pierwszej klasy i wybranej próbki drugiej klasy\n",
    "print(X1[3,0]+X1[3,1])\n",
    "print(X2[3,0]+X2[3,1])"
   ]
  },
  {
   "cell_type": "markdown",
   "metadata": {},
   "source": [
    "Na potrzeby przedstawionego przykładu, próbki obydwu klas zostały wygenerowane w sposób pozwalający na przewidzenie postaci liniowej powierzchni separującej (czyli prostej  y = -x). W rzeczywistych zadaniach, równanie powierzchni separującej będzie określane na podstawie części treningowej zbioru posiadanych przykładów, a więc uczenie klasyfikatora liniowego będzie polegało na estymacji parametrów hiperpłaszczyzny rozgraniczającej próbki obydwu klas."
   ]
  },
  {
   "cell_type": "markdown",
   "metadata": {},
   "source": [
    "### Trening klasyfikatora - estymacja parametrów powierzchni decyzyjnej"
   ]
  },
  {
   "cell_type": "markdown",
   "metadata": {},
   "source": [
    "Klasyfikacja metodą podziału przestrzeni cech na regiony decyzyjne wymaga przeprowadzenia rozbudowanej i starannej procedury treningu, której celem jest identyfikacja parametrów odpowiednich powierzchni decyzyjnych. Źrodłem wiedzy do realizacji tego zadania są, jak zwykle, próbki zbioru treningowego, a metodą jego realizacji jest zbudowanie funkcji kryterialnej, która w sposób ilościowy odzwierciedli oczekiwany cel jakościowy, czyli, zapewnienie poprawności rozpoznawania próbek. Tak sformułowane zadanie staje się niemal identyczne, jak zadanie regresji. Celem regresji było znalezienie parametrów $\\boldsymbol{\\theta}$ założonej funkcji, która zapewniała minimalizację błędu dopasowania do posiadanego rozkładu próbek treningowych $(x_i, y_i)$, gdzie jako błąd przyjęto średni kwadrat odstępstwa funkcji $f(x_i)$ modelującej rozkład, od rzeczywistych położeń próbek:"
   ]
  },
  {
   "cell_type": "markdown",
   "metadata": {},
   "source": [
    "\\begin{equation}\n",
    "E(\\boldsymbol{\\theta}) = \\frac{1}{n} \\sum_{i=1}^n (y_i - f(x_i,\\boldsymbol{\\theta}))^2 \n",
    "\\end{equation}"
   ]
  },
  {
   "cell_type": "markdown",
   "metadata": {},
   "source": [
    "Jeżeli założymy, że przedmiotem klasyfikacji jest problem binarny (czyli mamy dwie klasy), to celem rozważanej metody klasyfikacji jest zapewnienie takiego doboru parametrów powierzchni decyzyjnej (funkcji), by próbki różnych klas leżały po przeciwnych stronach powierzchni. Ponieważ, jak wcześniej stwierdzono, powierzchnia decyzyjna ma 'dodatnią' i 'ujemną' stronę, warunek ten można próbować wyrazić w sposób analityczny: jeżeli szukana funkcja decyzyjna to $g(., \\boldsymbol{\\theta})$, to dla wszystkich próbek pierwszej klasy, chcielibyśmy, by $g(x_i^A,\\boldsymbol{\\theta})>0$, zaś dla wszystkich próbek drugiej klasy, by $g(x_j^B,\\boldsymbol{\\theta})<0$. Aby zbudować funkcję kryterialną analogiczną jak dla przypadku regresji (bo wtedy parametry powierzchni można określić analitycznie), konieczne jest dla oczekiwanej wartości wyniku analizy każdej próbki zastąpienie nierówności znakami równości (inaczej różnica między oczekiwaniem a wartością rzeczywistą jest nieokreślona). Przyjmijmy więc, że jeżeli próbka należy do pierwszej z klas (A) to  $g(x_i^A,\\boldsymbol{\\theta}) = a$ (np. a=1), a jeżeli należy do drugiej (B) to $g(x_i^B,\\boldsymbol{\\theta}) = b$ (np. b=-1). Przy takim założeniu (które oczywiście zniekształca rzeczywiste oczekiwania), funkcja kryterialna staje się formalnie identyczna z funkcją używaną w regresji, a więc możliwe staje się analityczne znalezienie parametrów powierzchni decyzyjnej $g(.)$ (miejsca zerowe pochodnych cząstkowych względem paramertów): "
   ]
  },
  {
   "cell_type": "markdown",
   "metadata": {},
   "source": [
    "\\begin{equation}\n",
    "J(\\boldsymbol{\\theta}) = \\frac{1}{n} \\sum_{i=1}^n (y_i - g(x_i,\\boldsymbol{\\theta}))^2 \n",
    "\\end{equation}"
   ]
  },
  {
   "cell_type": "markdown",
   "metadata": {},
   "source": [
    "gdzie etykiety próbek $y_i$ mają jedną z dwóch wartości (albo '-1', albo '1'). Klasyfikacja nieznanej próbki będzie polegała na wstawieniu jej do znalezionego równania powierzchni decyzyjnej, a następnie, na podjęciu odpowiedniej decyzji: jeżeli wynik będzie większy od progu 0, próbka zostanie zakwalifikowana do klasy A, jeżeli będzie mniejszy - do klasy B (próg jest ustalony tak, by zapewnić największą tolerancję na odstępstwa wartości wyniku od oczekiwanego zera lub jedynki)."
   ]
  },
  {
   "cell_type": "markdown",
   "metadata": {},
   "source": [
    "Tak jak w każdej metodzie klasyfikacji, w klasyfikacji z wykorzystaniem powierzchni decyzyjnych, parametry klasyfikatora są wyznaczane na podstawie danych zawartych w zbiorze treningowym. Wartość wyrażenia określającego błąd dopasowania powierzchni decyzyjnej (czyil funkcji $g(.)$) do próbek, stanowi miarę ilościową jakości uzyskanego rozwiązania. Błąd ten nazywa się **<font color=blue>błędem empirycznym</font>** lub **<font color=blue>ryzykiem empirycznym</font>** (ang. <font color=red>empirical risk</font>), a jego wartość stanowi element oceny jakości uzyskanego algortymu klasyfikacji. "
   ]
  },
  {
   "cell_type": "markdown",
   "metadata": {},
   "source": [
    "#### Przykład\n",
    "\n",
    "Wyznaczmy parametry liniowej powierzchni separującej dla próbek z poprzedniego przykładu. W tym celu skorzystamy z gotowych narzędzi dla estymacji wartości współczynników regresji liniowej, przy czym, należy pamiętać o interpretacji wykonywanej operacji: dla każdej próbki wynikiem funkcji $g(.)$ jest etykieta próbki (a nie wartość funkcji $f(.)$, jak miało to miejsce poprzednio)."
   ]
  },
  {
   "cell_type": "code",
   "execution_count": 4,
   "metadata": {},
   "outputs": [
    {
     "data": {
      "text/plain": [
       "[<matplotlib.lines.Line2D at 0xa9782e4c>]"
      ]
     },
     "execution_count": 4,
     "metadata": {},
     "output_type": "execute_result"
    },
    {
     "data": {
      "image/png": "[encoded data removed]",
      "text/plain": [
       "<matplotlib.figure.Figure at 0xaba0ff2c>"
      ]
     },
     "metadata": {},
     "output_type": "display_data"
    }
   ],
   "source": [
    "from sklearn import linear_model\n",
    "\n",
    "# próbki\n",
    "plt.scatter(X1[:,0], X1[:,1]) # w pythonie domyślnie próbki zapisuje się w wierszach macierzy :(\n",
    "plt.scatter(X2[:,0], X2[:,1]) # więc X[:,0] to wsp. 'x-owe' wszystkich próbek\n",
    "# utworzenie zmiennych dla procedury regresji - Y - etykiety klas, X1 ma etykietę '1', X2 - '0'\n",
    "X = np.concatenate((X1,X2),axis=0)\n",
    "Y = np.ones(np.shape(X)[0])\n",
    "Y[:np.shape(X1)[0]] = -1\n",
    "# określenie współczynników regresji liniowej\n",
    "Reg = linear_model.LinearRegression()\n",
    "Reg.fit(X, Y) # model to g = Ax0 + Bx1 + C\n",
    "# wizualizacja wyniku\n",
    "x = np.linspace(np.int(np.min(X[:,0])), np.int(np.max(X[:,1])),100)\n",
    "y = -(x*Reg.coef_[0] + Reg.intercept_ )/Reg.coef_[1] # linia o równaniu y = -(Ax +C) / B\n",
    "plt.plot(x,y, color='red') "
   ]
  },
  {
   "cell_type": "markdown",
   "metadata": {},
   "source": [
    "Najistotniejszą cechą zaprezentowanej koncepcji klasyfikacji danych jest to, że decyzja o przynależności próbki do klasy jest podejmowana w wyniku okerślenia wartości **iloczynu skalarnego** wektora, reprezentującego tą próbkę i wektora współczynników funkcji liniowej, stanowiącej przyjęty model problemu:"
   ]
  },
  {
   "cell_type": "markdown",
   "metadata": {},
   "source": [
    "\\begin{equation}\n",
    "y = \\boldsymbol{\\theta}^T \\mathbf{x} = \n",
    "\\left\\{ \n",
    "\\begin{array}{ccc}\n",
    "A & gdy & y>\\alpha \\\\\n",
    "B & gdy & y<\\alpha\n",
    "\\end{array}\n",
    "\\right.\n",
    "\\end{equation}"
   ]
  },
  {
   "cell_type": "markdown",
   "metadata": {},
   "source": [
    "Reprezentowana przez wektor $\\boldsymbol{\\theta}$ funkcja liniowa, uzyskana w wyniku treningu klasyfikatora, nazywa się **<font color=blue>liniową funkcją dyskryminacji</font>**."
   ]
  },
  {
   "cell_type": "markdown",
   "metadata": {},
   "source": [
    "Klasyfikacja z wykorzystaniem liniowych funkcji dyskryminacji ma fundamentalne ograniczenia. Pierwszym źródłem ograniczającym jej przydatność jest trudność uzyskania poprawnej powierzchni separującej klasy, nawet w przypadku, gdy klasy można oddzielić od siebie za pomocą hiperpłaszczyzny (są liniowo separowalne). Przyjęty sposób oceny błędu klasyfikacji, wykorzystywany podczas treningu, to niejawne założoenie, że próbki danej klasy są jednakowo odległe od poszukiwanej powierzchni (tylko wtedy można uzyskać dla równania liniowego błąd zerowy). Gdy sytuacja taka nie zachodzi, lub gdy w zbiorze danych pojawiają się tzw. obserwacje odstające, uzyskanie właściwej hiperpłaszczyzny separującej może nie być wykonalne (proszę wyznaczyć równanie prostej, zakładając że np. w pierwszym zbiorze zamieniam pierwszą współrzędne pierwszej próbki na wartości (-100,-100)). "
   ]
  },
  {
   "cell_type": "markdown",
   "metadata": {},
   "source": [
    "## Regresja logistyczna"
   ]
  },
  {
   "cell_type": "markdown",
   "metadata": {},
   "source": [
    "Pomysłem na eliminację problemu pojawiania się podczas treningu błędów dla próbek położonych po 'właściwej' stronie hiperpłaszczyzny separującej, ale odległych od niej, jest przyjęcie, że $g(.)$ jest odpowiednią funkcją nieliniową. 'Odpowiedniość' to zapewnienie by w miarę przesuwania się próbki wgłąb obszaru przypisanego danej klasie, wartość funkcji coraz silniej wskazywała na przynależność próbki do tej klasy (a więc błąd estymacji etykiety malał). Funkcją, zapewniającą taką właściwość jest tzw. **<font color=blue>funkcja logistyczna</font>**: zakładając, że argument funkcji (zmienna $s$) to wynik iloczynu skalarnego wektorów $\\boldsymbol{\\theta}$ i **x** (próbka), funkcja ta będzie miała wartości dążące do jedności w miarę przesuwania się wgłąb półprzestrzeni położonej po jednej stronie hiperpłaszczyzny separującej, zaś dążące do zera, w miarę przesuwania się wgłąb drugiej podprzestrzeni:"
   ]
  },
  {
   "cell_type": "markdown",
   "metadata": {},
   "source": [
    "\\begin{equation}\n",
    "y = g(s) = g (\\boldsymbol{\\theta}^T \\mathbf{x}) = \\frac{1}{1 + e^{-\\beta s}}\n",
    "\\end{equation}"
   ]
  },
  {
   "cell_type": "code",
   "execution_count": 10,
   "metadata": {},
   "outputs": [
    {
     "data": {
      "text/plain": [
       "[<matplotlib.lines.Line2D at 0xa96c632c>]"
      ]
     },
     "execution_count": 10,
     "metadata": {},
     "output_type": "execute_result"
    },
    {
     "data": {
      "image/png": "[encoded data removed]",
      "text/plain": [
       "<matplotlib.figure.Figure at 0xa96c610c>"
      ]
     },
     "metadata": {},
     "output_type": "display_data"
    }
   ],
   "source": [
    "s = np.linspace(-10,10,100)\n",
    "plt.plot(x,1/(1+np.exp(-s)), color='blue')  # beta = 1 \n",
    "plt.plot(x,1/(1+np.exp(-4*s)), color='red') # beta = 4"
   ]
  },
  {
   "cell_type": "markdown",
   "metadata": {},
   "source": [
    "Przyjęcie jako podstawy do podejmowania decyzji funkcji logistycznej skutkuje zwiększaniem pewności, że próbka należy do klasy A lub B w miarę, gdy jest ona położona dalej od powierzchni separującej. Niestety, wprowadzenie funkcji nieliniowej sprawia, że analityczne wyznaczenie wektora parametrów powierzchni separującej staje się niemożliwe i musi być on wyznaczany z wykorzystaniem metod optymalizacyjnych."
   ]
  },
  {
   "cell_type": "markdown",
   "metadata": {},
   "source": [
    "#### Przykład\n",
    "\n",
    "Przedstawione poniżej porównanie klasyfikacji danych z wykorzystaniem liniowej powierzchni decyzyjnej za pomocą liniowej funkcji dyskryminacji i funkcji wykorzystującej regresję logistyczną, w odniesieniu do problemu binarnej klasyfikacji, pokazuje przewagę drugiego podejścia."
   ]
  },
  {
   "cell_type": "code",
   "execution_count": 18,
   "metadata": {},
   "outputs": [
    {
     "data": {
      "text/plain": [
       "[<matplotlib.lines.Line2D at 0xa9474d0c>]"
      ]
     },
     "execution_count": 18,
     "metadata": {},
     "output_type": "execute_result"
    },
    {
     "data": {
      "image/png": "[encoded data removed]",
      "text/plain": [
       "<matplotlib.figure.Figure at 0xa9484c2c>"
      ]
     },
     "metadata": {},
     "output_type": "display_data"
    }
   ],
   "source": [
    "# klasa A pozostaje bez zmian, klasa B ma tym razem dwa mody \n",
    "C3 = np.array([[2,-1],[-1,2]])\n",
    "mu3 = np.array([10,10])\n",
    "# generacja próbek zgodnie z dwoma rozkładami Gaussa\n",
    "n=50\n",
    "X2 = np.random.multivariate_normal(mu2,C2,n)\n",
    "X3 = np.random.multivariate_normal(mu3,C3,n)\n",
    "X23 = np.concatenate((X2,X3),axis=0)\n",
    "\n",
    "X = np.concatenate((X1,X23),axis=0)\n",
    "Y = np.zeros(np.shape(X)[0])\n",
    "Y[:np.shape(X1)[0]] = 1\n",
    "# określenie współczynników regresji liniowej za pmocą liniowej funkcji dyskryminacji\n",
    "RegLin = linear_model.LinearRegression()\n",
    "RegLin.fit(X, Y) # model to g = Ax0 + Bx1 + C\n",
    "# wizualizacja wyniku\n",
    "x = np.linspace(np.int(np.min(X[:,0])), np.int(np.max(X[:,1])),100)\n",
    "y = -(x*RegLin.coef_[0] + RegLin.intercept_ -0.5)/RegLin.coef_[1] # linia o równaniu y = -(Ax +C =0.5) / B\n",
    "fig = plt.figure()\n",
    "ax = fig.add_subplot(1,2,1)\n",
    "plt.scatter(X1[:,0], X1[:,1]) \n",
    "plt.scatter(X23[:,0], X23[:,1]) \n",
    "plt.plot(x,y, color='red') \n",
    "\n",
    "# klasyfikacja z wykorzystaniem regresji logistycznej\n",
    "RegLog = linear_model.LogisticRegression()\n",
    "RegLog.fit(X, Y) # model to funkcja logistyczna\n",
    "y = -(x*RegLog.coef_[0,0] + RegLog.intercept_ -0.5)/RegLog.coef_[0,1] \n",
    "fig.add_subplot(1,2,2)\n",
    "plt.scatter(X1[:,0], X1[:,1]) \n",
    "plt.scatter(X23[:,0], X23[:,1]) \n",
    "plt.plot(x,y, color='green') \n"
   ]
  },
  {
   "cell_type": "markdown",
   "metadata": {},
   "source": [
    "### Probabilistyczna perspektywa regresji logistycznej"
   ]
  },
  {
   "cell_type": "markdown",
   "metadata": {},
   "source": [
    "Rozwiązanie problemu regresji logistycznej, czyli wyznaczenie na podstawie danych treningowych parametrów hiperpłaszczyzny zapewniającej separację próbek dwóch klas, jest przeprowadzenie iteracyjnej procedury minimalizacji funkcji błędu, określonego jako średni kwadrat różnicy między założonym a uzyskanym wynikiem klasyfikacji próbki (wartością funkcji logistycznej dla tej próbki)."
   ]
  },
  {
   "cell_type": "markdown",
   "metadata": {},
   "source": [
    "Innym pomysłem na ocenę błędu, który okaże się być niezwykle przydatny dla innych koncepcji rozpoznawania (w szczególności, dla głębokich sieci neuronowych), jest potraktowanie zadania klasyfikacji binarnej (takiej, w której mamy tylko dwie klasy) w kategoriach probabilistycznych. Wynik eksperymentu klasyfikacji pojedynczej próbki $\\mathbf{x}_i$ może być utożsamiony ze zmienną losową, która dla różnych próbek $i$ ma przyjmować dwie wartości: '0' lub '1'. Dla aktualnego wektora parametrów $\\boldsymbol{\\theta}$ i danej próbki $\\mathbf{x}_i$, wartość funkcji logistycznej (a więc wynik estymacji oczekiwanej wartości etykiety) to $p_i = g(\\boldsymbol{\\theta}^T \\mathbf{x}_i)$, w przypadku gdy wynikiem ma być $y_i=1$, zaś $q_i = 1-p_i = 1-g(\\boldsymbol{\\theta}^T \\mathbf{x}_i)$, gdy wynikiem ma być $y_i=0$. Prawdopodobieństwo poprawnej klasyfikacji pojedynczej próbki $\\mathbf{x}_i$ można zapisać w zwięzłej postaci:"
   ]
  },
  {
   "cell_type": "markdown",
   "metadata": {},
   "source": [
    "\\begin{equation}\n",
    "p(\\mathbf{x}_i) = p_i^{y_i}(1-p_i)^{1-y_i}\n",
    "\\end{equation}"
   ]
  },
  {
   "cell_type": "markdown",
   "metadata": {},
   "source": [
    "ponieważ jeżeli oczekiwaną wartością wyniku klasyfikacji jest $y_i=1$, to $p(\\mathbf{x}_i) = p^{1}(1-p)^0 = p$, zaś gdy oczekiwaną wartością jest $y_i=0$, to $p(\\mathbf{x}_i) = p^{0}(1-p)^1 = 1-p$. Jeżeli klasyfikacji poddawanych jest n-próbek ze zbioru treningowego, a kolejne próbki są od siebie niezależne, to wypadkowe p-stwo uzyskania sekwencji samych poprawnych wyników jest iloczynem p-stw indywidualnych, czyli:"
   ]
  },
  {
   "cell_type": "markdown",
   "metadata": {},
   "source": [
    "\\begin{equation}\n",
    "p(\\mathbf{x}_1 ... \\mathbf{x}_n / \\boldsymbol{\\theta}) = \\prod_{i=1}^n p_i^{y_i}(1-p_i)^{(1-y_i)}\n",
    "\\end{equation}"
   ]
  },
  {
   "cell_type": "markdown",
   "metadata": {},
   "source": [
    "Powyższe wyrażenie stanowi kryterium doboru wartości parametrów $\\boldsymbol{\\theta}$, które należy dobrać w sposób zapewniający maksymalizację przedstawionego prawdopodobieństwa ( w terminologii anglojęzycznej to <font color=red> likelihood maximization</font>). Ponieważ mnożenie p-stw dla większych zbiorów próbek treningowych prowadzi do błędów numerycznych, w praktyce zamiast prawdopodobieństwa stosuje się logarytm powyższego wyrażenia (lokalizacja maksimum nie ulega zmianie), czyli przedmiotem procedury jest poszukiwanie wektora parametrów, zapewniającego maksymalizację następującej funkcji kryterialnej:"
   ]
  },
  {
   "cell_type": "markdown",
   "metadata": {},
   "source": [
    "\\begin{equation}\n",
    "\\mathcal{l} (\\boldsymbol{\\theta}) = log\\left(p(\\mathbf{x}_1 ... \\mathbf{x}_n / \\boldsymbol{\\theta})\\right) = log\\left(\\prod_{i=1}^n p^{y_i}(1-p)^{(1-y_i)}\\right) = \\sum_{i=1}^n log\\left(p_i^{y_i}(1-p_i)^{(1-y_i)}\\right) = \\sum_{i=1}^n \\left( y_i log(p_i) +(1-y_i)log(1-p_i) \\right)\n",
    "\\end{equation}"
   ]
  },
  {
   "cell_type": "markdown",
   "metadata": {},
   "source": [
    "gdzie $p(\\mathbf{x_i}) = g(s_i) = g(\\mathbf{\\theta}^T \\mathbf{x}_i)$ jest opisane funkcją logistyczną. W przeciwieństwie do opisanego wcześniej zadania regresji liniowej, nie ma możliwości analitycznego wyznaczenia poszukiwanego wektora parametrów (funkcja jest nieliniowa ze względu na $\\boldsymbol{\\theta}$. Dlatego też, dla rozwiązania problemu konieczne jest zastosowanie procedury optymalizacyjnej - iteracyjnych korekt elementów wektora parametrów, prowadzących do maksymalizacji wartości funkcji kryterialnej"
   ]
  },
  {
   "cell_type": "markdown",
   "metadata": {},
   "source": [
    "Jeżeli możliwe jest określenie wartości gradientu funkcji kryterialnej, podstawową metodą optymalizacji stają się techniki gradientowe, a więc metod najszybszego spadku (gradient descent), gdy celem jest minimalizacja funkcji celu, lub metoda najszybszego wzrostu (gradient ascent), gdy celem jest jej maksymalizacja. Kluczową koncepcją technik gradientowych jest uaktualnianie wektora parametrów o przyrosty proporcjonalne do gradientu (taka korekta zapewnia, pod pewnymi warunkami, uzyskanie maksymalnej poprawy funkcji celu):"
   ]
  },
  {
   "cell_type": "markdown",
   "metadata": {},
   "source": [
    "\\begin{equation}\n",
    "\\boldsymbol{\\theta}^{t+1} = \\boldsymbol{\\theta}^t \\pm \\eta \\nabla l(\\boldsymbol{\\theta}) \\rightarrow \\forall_{j \\in [1 ... d]} \\hspace{0.3cm} \\theta_j^{t+1} = \\theta_j^t \\pm \\eta \\frac{\\partial l(\\boldsymbol{\\theta}, \\mathbf{x}_i)}{\\partial \\theta_j}\n",
    "\\end{equation}"
   ]
  },
  {
   "cell_type": "markdown",
   "metadata": {},
   "source": [
    "gdzie $t$ to indeks iteracji, $\\eta$ to pewna stała dodatnia, kontrolująca zakres modyfikacji, $\\nabla$ oznacza gradient, a znak zależy od wyboru metody ('plus' dla maksymalizacji, 'minus' - dla minimalizacji funkcji celu). Ponieważ funkcja celu jest sumą wyrażeń związanych z prezentacjami kolejnych próbek, korekty mogą być dokonywane dla każdej z próbek osobno. Komponent funkcji celu dla próbki $\\mathbf{x}_i$ to:\n",
    "\\begin{equation}\n",
    "l_i (\\boldsymbol{\\theta}) = y_i\\log g(\\boldsymbol{\\theta}^T, \\mathbf{x}_i) + (1-y_i) \\log (1 - g(\\boldsymbol{\\theta}^T, \\mathbf{x}_i)) = y_i\\log g + (1-y_i)\\log( 1 - g) \n",
    "\\end{equation}\n",
    "więc jego pochodna względem $\\theta_j$ to wyrażenie:\n",
    "\n",
    "\\begin{equation}\n",
    "\\frac{\\partial l_i(.)}{\\partial \\theta_j} =  \\frac{\\partial (y_i\\log g + (1-y_i)\\log( 1 - g) )}{\\partial \\theta_j} = \\left( \\frac{y_i}{g} - \\frac{1-y_i}{1-g} \\right) \\frac{\\partial g}{\\partial \\theta_j} = \\left( \\frac{y_i}{g} - \\frac{1-y_i}{1-g} \\right) g (1-g) x_j = [ y_i(1-g) - (1-y_i)g ] x_j = (y_i - y_i g - g +y_i g) x_j = (y_i - g) x_j\n",
    "\\end{equation}"
   ]
  },
  {
   "cell_type": "markdown",
   "metadata": {},
   "source": [
    "Pochodna komponentu ma więc bardzo prostą i łatwą do obliczenia postać ($(y_i - g) x_j$) o przejrzystej interpretacji: jest to różnica między oczekiwaną a wygenerowaną wartością etykiety, pomnożona przez wartość elementu próbki, odpowiadającego modyfikowanemu elementowi wektora parametrów. W efekcie, w każdej iteracji następuje korekta wartości wektora parametrów postaci:"
   ]
  },
  {
   "cell_type": "markdown",
   "metadata": {},
   "source": [
    "\\begin{equation}\n",
    "\\boldsymbol{\\theta}^{t+1} = \\boldsymbol{\\theta}^t \\pm \\eta \\left( y_i - g(\\boldsymbol{\\theta}^T \\mathbf{x}_i) \\right) \\mathbf{x}_i\n",
    "\\end{equation}"
   ]
  }
 ],
 "metadata": {
  "kernelspec": {
   "display_name": "Python 3",
   "language": "python",
   "name": "python3"
  },
  "language_info": {
   "codemirror_mode": {
    "name": "ipython",
    "version": 3
   },
   "file_extension": ".py",
   "mimetype": "text/x-python",
   "name": "python",
   "nbconvert_exporter": "python",
   "pygments_lexer": "ipython3",
   "version": "3.6.7"
  }
 },
 "nbformat": 4,
 "nbformat_minor": 2
}
