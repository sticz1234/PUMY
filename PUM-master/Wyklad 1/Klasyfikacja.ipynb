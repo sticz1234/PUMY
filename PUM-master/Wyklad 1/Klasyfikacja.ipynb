{
 "cells": [
  {
   "cell_type": "markdown",
   "metadata": {},
   "source": [
    "# Uczenie nadzorowane - wiadomości wstępne"
   ]
  },
  {
   "cell_type": "markdown",
   "metadata": {},
   "source": [
    "Uczenie nadzorowane to proces, w którym budowa mechanizmu pozwalającego na rozwiązanie problemu jest dokonywana na podstawie przykładów ($\\textbf{próbek}$) treningowych $\\textbf{etykietowanych}$. Dwie podstawowe kategorie problemów rozwiązywanych z wykorzystaniem metod uczenia nadzorowanego to $\\textbf{klasyfikacja}$ i $\\textbf{regresja}$. W pierwszym przypadku, etykieta próbki ma charakter $\\textbf{jakościowy}$ (odpowiada kategorii, do której należy próbka), w drugim - ma charakter  $\\textbf{ilościowy}$ (reprezentuje wynik przekształcenia próbki wejściowej)."
   ]
  },
  {
   "cell_type": "markdown",
   "metadata": {},
   "source": [
    "## Klasyfikacja"
   ]
  },
  {
   "cell_type": "markdown",
   "metadata": {},
   "source": [
    "Najogólniejsze kryterium podziału istniejących strategii klasyfikacji to zasada, według której podejmowana jest decyzji odnośnie przynależności próbki do klasy. Trzy stosowane podejścia (w istocie, nie są one rozłączne) to:\n",
    "-  Klasyfikacja minimalnoodległościowa\n",
    "-  Klasyfikacja Bayesowska\n",
    "-  Klasyfikacja przez podział przestrzeni cech\n",
    "\n",
    "W pierwszym przypadku, o przynależności próbki do danej klasy decyduje podobieństwo tej próbki do klasy (wyrażane jako odległość). W drugim, próbka jest klasyfikowana na podstawie oceny prawdopodobieństwa przynależności do klasy, a w trzecim, przynależność próbki wyznacza jej położenie w odpowiednio 'podzielonej' przestrzeni."
   ]
  },
  {
   "cell_type": "markdown",
   "metadata": {},
   "source": [
    "Najprostsza koncepcyjnie (i niestety, najmniej skuteczna) strategia klasyfikacji to klasyfikacja minimalnoodległościowa. Jej sedno to ocena odległości próbki od klasy. To stwierdzenie implikuje konieczność precyzyjnego zdefiniowania sposobu rozumienia odległości między próbką (próbka może być reprezentowana przez skalar, wektor lub macierz), a klasą, która może być 'modelowana' na różne sposoby. Zależnie od konkretnej postaci, jaką przyjmie model klasy, wyróżniać będziemy różne rodzaje klasyfikacji minimialnoodległościowej. Najprostszym jest metoda najbliższego sąsiada (ang. $\\textit{Nearest Neighbor}$ - NN), gdzie model klasy to po prostu zapamiętane wszystkie przykłady treningowe, a odległość próbki od klasy to odległość (np. Euklidesa) do najbliższej próbki w tej klasie. Rozwinięciem metody NN, dającym jakościową poprawę skuteczności działania, jest metoda k-najbliższych sąsiadów (k-NN). W metodzie k-NN próbka jest zaliczana do klasy, której etykiety dominują wśród k-najbliższych elementów próbki nieznanej."
   ]
  },
  {
   "cell_type": "markdown",
   "metadata": {},
   "source": [
    "Aby możliwe było poprawne określanie podobieństwa próbki do klasy dla próbek wielowymiarowych (powyżej 1D), konieczne jest przeprowadzenie normalizacji wartości elementów wektora opisującego próbkę. Istnieją dwie podstawowe metody normalizacji: do stałego przedziału wartości ([MIN ... MAX]) oraz z wykorzystaniem statystyk rozkładu wartości elementów (wartości średniej i odchylenia standardowego)."
   ]
  },
  {
   "cell_type": "markdown",
   "metadata": {},
   "source": [
    "### Implementacja klasyfikatora NN / k-NN"
   ]
  },
  {
   "cell_type": "markdown",
   "metadata": {},
   "source": [
    "Ponieważ program wdrażający algorytmy klasyfikacji będzie korzystać z macierzowej reprezentacji danych, a wyniki jego działania na różnych etapach będą prezentowane w postaci graficznej, do kodu zostaną włączone odpowiednie dla realizacji tych zadań biblioteki języka Python: numpy i matplotlib.pyplot. "
   ]
  },
  {
   "cell_type": "code",
   "execution_count": 1,
   "metadata": {
    "collapsed": true
   },
   "outputs": [],
   "source": [
    "import numpy as np\n",
    "import matplotlib.pyplot as plt"
   ]
  },
  {
   "cell_type": "markdown",
   "metadata": {},
   "source": [
    "Załóżmy, że utworzone zostały dwie klasy: wilki (W) i jamniki (J). do których klasyfikowane mają być nowo zaobserwowane zwierzęta. Wiedza o obydwu klasach została uzyskana poprzez przykładowe informacje o ich przedstawicielach, przy czym dostępne informacje obejmują dwie cechy: masę i 'długość' (odległość np. od nasady pyska do ogona). Posiadane dane to po trzy przykłady dla obydwu klas (dane opisujące pojedynczy 'obiekt' są przedstawiane w postaci wektora kolumnowego o dwóch komponentach: masa [kg] i długość [cm]). "
   ]
  },
  {
   "cell_type": "code",
   "execution_count": 2,
   "metadata": {},
   "outputs": [
    {
     "name": "stdout",
     "output_type": "stream",
     "text": [
      "[[40 52 36 12 17  8]\n",
      " [80 94 88 42 55 38]]\n"
     ]
    }
   ],
   "source": [
    "Dane = np.array([[40,52,36,12,17,8],[80,94,88,42,55,38]])\n",
    "print(Dane)\n",
    "Etykiety = np.array([1,1,1,0,0,0])"
   ]
  },
  {
   "cell_type": "markdown",
   "metadata": {},
   "source": [
    "Rozważanym klasom przypisano odpowiednio etykiety: 0 - Jamniki i 1 - Wilki."
   ]
  },
  {
   "cell_type": "markdown",
   "metadata": {},
   "source": [
    "W przypadku gdy ocena podobieństwa próbek wielowymiarowych ma być dokonywana na podstawie obliczania ich wzajemnych odległości, konieczna jest normalizacja zakresów wartości wszystkich rozważanych cech. Możliwa normalizacja to sprowadzenie zakresu zmienności dla każdego z elementów wektora cech do tego samego przedziału (np. [0 ... 1]). Odpowiednia funkcja realizująca tą operację dla przekazywanej w jej argumencie macierzy (o strukturze: kolejne próbki w kolumnach), ma postać:"
   ]
  },
  {
   "cell_type": "code",
   "execution_count": 6,
   "metadata": {},
   "outputs": [
    {
     "name": "stdout",
     "output_type": "stream",
     "text": [
      "[[ 8]\n",
      " [38]]\n",
      "[ 8 38]\n",
      "[[40 52 36 12 17  8]\n",
      " [80 94 88 42 55 38]]\n"
     ]
    },
    {
     "ename": "ValueError",
     "evalue": "operands could not be broadcast together with shapes (2,6) (2,) ",
     "output_type": "error",
     "traceback": [
      "\u001b[1;31m---------------------------------------------------------------------------\u001b[0m",
      "\u001b[1;31mValueError\u001b[0m                                Traceback (most recent call last)",
      "\u001b[1;32m<ipython-input-6-14dec78cbdf9>\u001b[0m in \u001b[0;36m<module>\u001b[1;34m()\u001b[0m\n\u001b[0;32m      3\u001b[0m \u001b[0mprint\u001b[0m\u001b[1;33m(\u001b[0m\u001b[0mx\u001b[0m\u001b[1;33m.\u001b[0m\u001b[0mmin\u001b[0m\u001b[1;33m(\u001b[0m\u001b[0maxis\u001b[0m\u001b[1;33m=\u001b[0m\u001b[1;36m1\u001b[0m\u001b[1;33m)\u001b[0m\u001b[1;33m)\u001b[0m\u001b[1;33m\u001b[0m\u001b[0m\n\u001b[0;32m      4\u001b[0m \u001b[0mprint\u001b[0m\u001b[1;33m(\u001b[0m\u001b[0mx\u001b[0m\u001b[1;33m)\u001b[0m\u001b[1;33m\u001b[0m\u001b[0m\n\u001b[1;32m----> 5\u001b[1;33m \u001b[0mprint\u001b[0m\u001b[1;33m(\u001b[0m\u001b[0mx\u001b[0m \u001b[1;33m-\u001b[0m \u001b[0mx\u001b[0m\u001b[1;33m.\u001b[0m\u001b[0mmin\u001b[0m\u001b[1;33m(\u001b[0m\u001b[0maxis\u001b[0m\u001b[1;33m=\u001b[0m\u001b[1;36m1\u001b[0m\u001b[1;33m)\u001b[0m\u001b[1;33m)\u001b[0m\u001b[1;33m\u001b[0m\u001b[0m\n\u001b[0m\u001b[0;32m      6\u001b[0m \u001b[1;31m# (x - x.min(axis=1)[:,None]) / (x.max(axis=1)[:,None] - x.min(axis=1)[:,None] )\u001b[0m\u001b[1;33m\u001b[0m\u001b[1;33m\u001b[0m\u001b[0m\n",
      "\u001b[1;31mValueError\u001b[0m: operands could not be broadcast together with shapes (2,6) (2,) "
     ]
    }
   ],
   "source": [
    "x=Dane\n",
    "print(x.min(axis=1)[:,None])\n",
    "print(x.min(axis=1))\n",
    "print(x)\n",
    "print(x - x.min(axis=1))\n",
    "# (x - x.min(axis=1)[:,None]) / (x.max(axis=1)[:,None] - x.min(axis=1)[:,None] )"
   ]
  },
  {
   "cell_type": "code",
   "execution_count": 3,
   "metadata": {
    "collapsed": true
   },
   "outputs": [],
   "source": [
    "def normalizuj(x) :\n",
    "    return (x - x.min(axis=1)[:,None]) / (x.max(axis=1)[:,None] - x.min(axis=1)[:,None] )"
   ]
  },
  {
   "cell_type": "code",
   "execution_count": 9,
   "metadata": {
    "collapsed": true
   },
   "outputs": [],
   "source": [
    "def normalizuj(x) :\n",
    "    return (x - x.min(axis=1)[:,None]) / (x.max(axis=1)[:,None] - x.min(axis=1)[:,None] )"
   ]
  },
  {
   "cell_type": "markdown",
   "metadata": {},
   "source": [
    "Wykres, przedstawiający rozkład próbek w przestrzeni dwuwymiarowej (po dokonaniu normalizacji), został wygenerowany poniżej) "
   ]
  },
  {
   "cell_type": "code",
   "execution_count": 10,
   "metadata": {},
   "outputs": [
    {
     "data": {
      "text/plain": [
       "<matplotlib.collections.PathCollection at 0x229fbd4b780>"
      ]
     },
     "execution_count": 10,
     "metadata": {},
     "output_type": "execute_result"
    },
    {
     "data": {
      "image/png": "[encoded data removed]",
      "text/plain": [
       "<matplotlib.figure.Figure at 0x229fbc6f358>"
      ]
     },
     "metadata": {},
     "output_type": "display_data"
    }
   ],
   "source": [
    "D = normalizuj(Dane)\n",
    "%matplotlib inline\n",
    "plt.scatter(D[0,Etykiety==1],D[1,Etykiety==1])\n",
    "plt.scatter(D[0,Etykiety==0],D[1,Etykiety==0])"
   ]
  },
  {
   "cell_type": "markdown",
   "metadata": {},
   "source": [
    "Istota rozważanej metody klasyfikacji to ocena odległości. Załóżmy, że jako miara odległości przyjęta została norma L2 (odległość Euklidesa) i że będzie ona wyznaczana za pomocą funkcji:"
   ]
  },
  {
   "cell_type": "code",
   "execution_count": 12,
   "metadata": {
    "collapsed": true
   },
   "outputs": [],
   "source": [
    "def L2(p,q) :\n",
    "    return np.sqrt ( np.sum((p-q)**2) )"
   ]
  },
  {
   "cell_type": "markdown",
   "metadata": {},
   "source": [
    "Załóżmy, że przedmiotem klasyfikacji będzie obiekt S, o losowo ustalanych parametrach. Klasyfikacja metodą NN polega na obliczeniu odległości między tym obiektem, a próbkami obydwu klas i wybór klasy, zawierającej próbkę najbliższą. "
   ]
  },
  {
   "cell_type": "code",
   "execution_count": 22,
   "metadata": {},
   "outputs": [
    {
     "name": "stdout",
     "output_type": "stream",
     "text": [
      "Jamnik\n"
     ]
    },
    {
     "data": {
      "image/png": "[encoded data removed]",
      "text/plain": [
       "<matplotlib.figure.Figure at 0x229fcb6c278>"
      ]
     },
     "metadata": {},
     "output_type": "display_data"
    }
   ],
   "source": [
    "S = np.random.rand(2,1)\n",
    "plt.scatter(D[0,Etykiety==1],D[1,Etykiety==1])\n",
    "plt.scatter(D[0,Etykiety==0],D[1,Etykiety==0])\n",
    "plt.scatter(S[0],S[1])  \n",
    "# klasyfikacja NN\n",
    "Dist_W= np.sum( (D[:,Etykiety==1] - np.ones(D[:,Etykiety==1].shape)*S)**2,axis=0)\n",
    "Dist_J = np.sum( (D[:,Etykiety==0] - np.ones(D[:,Etykiety==0].shape)*S)**2,axis=0)\n",
    "if np.min(Dist_W) < np.min(Dist_J) :\n",
    "    print('Wilk')\n",
    "else :\n",
    "    print('Jamnik')"
   ]
  },
  {
   "cell_type": "markdown",
   "metadata": {},
   "source": [
    "Podstawą dla budowania algorytmów uczenia maszynowego w ramach przedstawianego kursu będzie biblioteka języka Python o nazwie 'sklearn'. Biblioteka ta zawiera implementacje większości, zarówno podstawowych jak i zaawansowanych, metod uczenia maszynowego. W odniesieniu do zadań klasyfikacji i regresji, typowym schematem korzystania z procedur implementujących odpowiednie narzędzia programowe, będzie wywoływanie dwóch funkcji: $\\tt{fit(x)}$ i $\\tt{predict(s)}$. Pierwsza z nich odpowiada za dopasowanie modelu używanego przez wybrany algorytm do danych treningowych, przekazanych w zmiennej $x$ (estymacja parametrów modelu), zaś druga - oblicza wynik aplikacji dopasowanego modelu do danych. Aby móc korzysać z tych funkcji, konieczne jest zaimportowanie biblioteki, a następnie, wykorzystanie odpowiedniego algorytmu. Algorytmy klasyfikacji minimalnoodległościowej znajdują się w pakiecie $\\tt{neighbors}$, a rozważany algorytm jest reprezentowany przez obiekt $\\tt{KNeighborsClassifier}$. Konstruktor tego obiektu przyjmuje jako argument liczbę najbliższych sąsiadów, jaka ma być używana w rozstrzyganiu przynależności nieznanego obiektu do klasy. Fragment kodu, realizujący dokładnie taką funkcjonalność, jak zapisana we wcześniejszej części jest następujący:"
   ]
  },
  {
   "cell_type": "code",
   "execution_count": 23,
   "metadata": {},
   "outputs": [
    {
     "name": "stdout",
     "output_type": "stream",
     "text": [
      "Jamnik\n"
     ]
    }
   ],
   "source": [
    "from sklearn import neighbors\n",
    "\n",
    "klas_NN = neighbors.KNeighborsClassifier(1)\n",
    "klas_NN.fit(D.T, Etykiety)\n",
    "if(klas_NN.predict(S.T) == 0):\n",
    "    print('Jamnik')\n",
    "else :\n",
    "    print('Wilk')"
   ]
  },
  {
   "cell_type": "markdown",
   "metadata": {},
   "source": [
    "## Regresja"
   ]
  },
  {
   "cell_type": "markdown",
   "metadata": {},
   "source": [
    "Celem regresji jest określenie zależności funkcyjnej wiążącej próbki z ich etykietami ilościowymi. Z kolei znajomość takiej zależności jest podstawą predykcji - określenia wartości dla nieznanej wcześniej próbki. Standardowym przykładem wykorzystania regresji jest przewidywanie cen kursów akcji, którego można próbować dokonać w drodze wykorzystania metod uczenia maszynowego. Zbiór danych treningowych to w tym przypadku pary ($\\textbf{x},y$), gdzie $\\textbf{x}$ może być wektorem zawierającym szereg wartości wskaźników uznanych za istotne dla ceny akcji, a $y$ to odpowiadająca im wartość akcji. Celem uczenia jest znalezienie parametrów modelu, który będzie najlepiej modelował nieznaną zależność. W rozważanym przykładzie model to pewna  funkcja $y = f(\\textbf{x},\\theta)$, która może być parametryczna lub nieparametryczna. W pierwszym przypadku, cel uczenia to znalezienie takich wartości parametrów $\\theta$, dla których zgodność obserwowanych relacji i relacji określanych za pomocą funkcji jest największa."
   ]
  },
  {
   "cell_type": "markdown",
   "metadata": {},
   "source": [
    "Najprostszym pomysłem na regresję nieparametryczną jest regresja metodą k-najbliższych sąsiadów, stanowiąca adaptację metody k-NN klasyfikacji danych. Regresja k-NN polega na znalezieniu dla nieznanego wektora zbioru k-najbliższych sąsiadów, a następnie, na określeniu wartości nieznanej etykiety na podstawie etykiet znalezionych sąsiadów. W najprostszym wariancie, nieznana etykieta staje się wartością średnią etykiet sąsiadów, w wariancie sensowniejszymi - średnią ważoną, gdzie wagi są odwrotnie proporcjonalne do odległości od sąsiadów (czyli, im sąsiad jest dalej, tym jego wpływ na wartość obliczanej etykiety jest mniejszy). Dla potrzeb wyznaczania regresji k-NN w pakiecie $\\tt{sklearn.neighbors}$ znajduje się obiekt $\\tt{KNeighborsRegressor}$."
   ]
  },
  {
   "cell_type": "markdown",
   "metadata": {},
   "source": [
    "### Regresja parametryczna - liniowa"
   ]
  },
  {
   "cell_type": "markdown",
   "metadata": {},
   "source": [
    "..."
   ]
  }
 ],
 "metadata": {
  "kernelspec": {
   "display_name": "Python 3",
   "language": "python",
   "name": "python3"
  },
  "language_info": {
   "codemirror_mode": {
    "name": "ipython",
    "version": 3
   },
   "file_extension": ".py",
   "mimetype": "text/x-python",
   "name": "python",
   "nbconvert_exporter": "python",
   "pygments_lexer": "ipython3",
   "version": "3.6.3"
  }
 },
 "nbformat": 4,
 "nbformat_minor": 2
}
